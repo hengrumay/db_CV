{
 "cells": [
  {
   "cell_type": "code",
   "execution_count": 0,
   "metadata": {
    "application/vnd.databricks.v1+cell": {
     "cellMetadata": {},
     "inputWidgets": {},
     "nuid": "d88249df-5813-4ab2-ad08-03e50ba44425",
     "showTitle": true,
     "tableResultSettingsMap": {},
     "title": "test with oneenv-adls SP credential"
    }
   },
   "outputs": [],
   "source": [
    "### TEST with new container cv-test2 on mmtdevs storage account + oneenv-adls [Service Principal -- legacy?] credential (instead of ManagedID) in the field-eng-east workspace\n",
    "\n",
    "# https://adb-984752964297111.11.azuredatabricks.net/explore/credentials/oneenv-adls?o=984752964297111 \n",
    "# --> added cv-test2\n",
    "# https://adb-984752964297111.11.azuredatabricks.net/explore/locations/cv-test2?o=984752964297111\n",
    "\n",
    "# https://portal.azure.com/#view/Microsoft_AAD_IAM/ManagedAppMenuBlade/~/Overview/objectId/19dc1fa8-21bd-48d0-82e5-3f959870683e/appId/ed573937-9c53-4ed6-b016-929e765443eb\n",
    "\n",
    "\n",
    "# Permissions granted for azure_mmt_service_principal / hls-admins / collaborators to the oneenv-adls SP credential; cv-test2 external location + UC Vols (inherited )\n",
    "\n",
    "\n",
    "### NB there is a oneenv-adls storage account but it is located in USWEST! which is not ideal for field-eng-east USEAST2 workspace\n",
    "# https://portal.azure.com/#@DataBricksInc.onmicrosoft.com/resource/subscriptions/3f2e4d32-8e8d-46d6-82bc-5bb8d962328b/resourceGroups/oneenv/providers/Microsoft.Storage/storageAccounts/oneenvadls/overview"
   ]
  },
  {
   "cell_type": "code",
   "execution_count": 0,
   "metadata": {
    "application/vnd.databricks.v1+cell": {
     "cellMetadata": {
      "byteLimit": 2048000,
      "rowLimit": 10000
     },
     "inputWidgets": {},
     "nuid": "dbb77754-e0c0-4128-b139-1dbb743d555d",
     "showTitle": true,
     "tableResultSettingsMap": {},
     "title": "test with oneenv-adls SP credential"
    }
   },
   "outputs": [],
   "source": [
    "!ls -lah /Volumes/mmt_mlops_demos/cv/cv-test2/"
   ]
  },
  {
   "cell_type": "code",
   "execution_count": 0,
   "metadata": {
    "application/vnd.databricks.v1+cell": {
     "cellMetadata": {
      "byteLimit": 2048000,
      "rowLimit": 10000
     },
     "inputWidgets": {},
     "nuid": "c3b13e09-eac1-46ef-9c4b-887acfac95bc",
     "showTitle": true,
     "tableResultSettingsMap": {},
     "title": "test with oneenv-adls SP credential"
    }
   },
   "outputs": [],
   "source": [
    "!cp /Workspace/Users/may.merkletan@databricks.com/db_CV/test_mmt.txt /Volumes/mmt_mlops_demos/cv/cv-test2/test_mmt.txt\n",
    "##WORKS?!"
   ]
  },
  {
   "cell_type": "code",
   "execution_count": 0,
   "metadata": {
    "application/vnd.databricks.v1+cell": {
     "cellMetadata": {
      "byteLimit": 2048000,
      "rowLimit": 10000
     },
     "inputWidgets": {},
     "nuid": "bef4c566-b14a-4fe1-b6f7-37824177b1b5",
     "showTitle": true,
     "tableResultSettingsMap": {},
     "title": "OMG!"
    }
   },
   "outputs": [],
   "source": [
    "!ls /Volumes/mmt_mlops_demos/cv/cv-test2/"
   ]
  },
  {
   "cell_type": "code",
   "execution_count": 0,
   "metadata": {
    "application/vnd.databricks.v1+cell": {
     "cellMetadata": {
      "byteLimit": 2048000,
      "rowLimit": 10000
     },
     "inputWidgets": {},
     "nuid": "f768f451-9ada-4230-bae6-ce524df1444f",
     "showTitle": false,
     "tableResultSettingsMap": {},
     "title": ""
    }
   },
   "outputs": [],
   "source": [
    "!ls -lah /Volumes/mmt_mlops_demos/cv/"
   ]
  },
  {
   "cell_type": "code",
   "execution_count": 0,
   "metadata": {
    "application/vnd.databricks.v1+cell": {
     "cellMetadata": {
      "byteLimit": 2048000,
      "rowLimit": 10000
     },
     "inputWidgets": {},
     "nuid": "b7bff560-6f63-49aa-8f36-23252b99def4",
     "showTitle": false,
     "tableResultSettingsMap": {},
     "title": ""
    }
   },
   "outputs": [],
   "source": [
    "!mkdir /Volumes/mmt_mlops_demos/cv/cv-test2/test_folder"
   ]
  },
  {
   "cell_type": "code",
   "execution_count": 0,
   "metadata": {
    "application/vnd.databricks.v1+cell": {
     "cellMetadata": {
      "byteLimit": 2048000,
      "rowLimit": 10000
     },
     "inputWidgets": {},
     "nuid": "a354678a-4ccc-4e92-ad99-a33feae50769",
     "showTitle": false,
     "tableResultSettingsMap": {},
     "title": ""
    }
   },
   "outputs": [],
   "source": [
    "!cp /Workspace/Users/may.merkletan@databricks.com/db_CV/test_mmt.txt /Volumes/mmt_mlops_demos/cv/cv-test2/test_folder/test2_mmt.txt"
   ]
  },
  {
   "cell_type": "code",
   "execution_count": 0,
   "metadata": {
    "application/vnd.databricks.v1+cell": {
     "cellMetadata": {
      "byteLimit": 2048000,
      "rowLimit": 10000
     },
     "inputWidgets": {},
     "nuid": "c1a53a07-31b4-43b2-b165-2f8bd4ec5318",
     "showTitle": false,
     "tableResultSettingsMap": {},
     "title": ""
    }
   },
   "outputs": [],
   "source": [
    "dbutils.fs.put(\"/Volumes/mmt_mlops_demos/cv/cv-test2/test_file.txt\", \"This is a test file.\")"
   ]
  },
  {
   "cell_type": "code",
   "execution_count": 0,
   "metadata": {
    "application/vnd.databricks.v1+cell": {
     "cellMetadata": {
      "byteLimit": 2048000,
      "rowLimit": 10000
     },
     "inputWidgets": {},
     "nuid": "6be18a87-b48b-4ab2-8ddc-46147a252eec",
     "showTitle": false,
     "tableResultSettingsMap": {},
     "title": ""
    }
   },
   "outputs": [],
   "source": [
    "dbutils.fs.ls(\"/Volumes/mmt_mlops_demos/cv/cv-test2/\")"
   ]
  },
  {
   "cell_type": "code",
   "execution_count": 0,
   "metadata": {
    "application/vnd.databricks.v1+cell": {
     "cellMetadata": {},
     "inputWidgets": {},
     "nuid": "33e9a5dd-94f8-4f68-8367-f1dd34a122ed",
     "showTitle": false,
     "tableResultSettingsMap": {},
     "title": ""
    }
   },
   "outputs": [],
   "source": []
  },
  {
   "cell_type": "code",
   "execution_count": 0,
   "metadata": {
    "application/vnd.databricks.v1+cell": {
     "cellMetadata": {},
     "inputWidgets": {},
     "nuid": "63264753-9411-4210-8485-505a2bb9fc25",
     "showTitle": false,
     "tableResultSettingsMap": {},
     "title": ""
    }
   },
   "outputs": [],
   "source": []
  },
  {
   "cell_type": "code",
   "execution_count": 0,
   "metadata": {
    "application/vnd.databricks.v1+cell": {
     "cellMetadata": {
      "byteLimit": 2048000,
      "rowLimit": 10000
     },
     "inputWidgets": {},
     "nuid": "87836586-3c57-40db-8a24-7c127fe66769",
     "showTitle": true,
     "tableResultSettingsMap": {},
     "title": "CREATE dbfs/mnt"
    }
   },
   "outputs": [],
   "source": [
    "mnts = dbutils.fs.mounts()\n",
    "display(mnts)"
   ]
  },
  {
   "cell_type": "code",
   "execution_count": 0,
   "metadata": {
    "application/vnd.databricks.v1+cell": {
     "cellMetadata": {
      "byteLimit": 2048000,
      "rowLimit": 10000
     },
     "inputWidgets": {},
     "nuid": "5542a5b9-abeb-4cc2-b78f-eec4b52d8c6f",
     "showTitle": true,
     "tableResultSettingsMap": {},
     "title": "check for intended mount pathname"
    }
   },
   "outputs": [],
   "source": [
    "mnts_df = spark.createDataFrame(mnts)\n",
    "cv_test_mount = mnts_df.filter(mnts_df.mountPoint.contains(\"hls_cv\"))\n",
    "display(cv_test_mount)"
   ]
  },
  {
   "cell_type": "code",
   "execution_count": 0,
   "metadata": {
    "application/vnd.databricks.v1+cell": {
     "cellMetadata": {
      "byteLimit": 2048000,
      "rowLimit": 10000
     },
     "inputWidgets": {},
     "nuid": "17167307-417a-4b21-8ce8-e35c79138bc6",
     "showTitle": false,
     "tableResultSettingsMap": {},
     "title": ""
    }
   },
   "outputs": [],
   "source": [
    "dbutils.secrets.list('mmt')"
   ]
  },
  {
   "cell_type": "code",
   "execution_count": 0,
   "metadata": {
    "application/vnd.databricks.v1+cell": {
     "cellMetadata": {
      "byteLimit": 2048000,
      "rowLimit": 10000
     },
     "inputWidgets": {},
     "nuid": "6301dc1d-921f-40de-9058-207640b15cb5",
     "showTitle": false,
     "tableResultSettingsMap": {},
     "title": ""
    }
   },
   "outputs": [],
   "source": [
    "dbutils.secrets.get('mmt','hls_cv_azSAS_mmtdevs_cv-test2')"
   ]
  },
  {
   "cell_type": "code",
   "execution_count": 0,
   "metadata": {
    "application/vnd.databricks.v1+cell": {
     "cellMetadata": {
      "byteLimit": 2048000,
      "rowLimit": 10000
     },
     "inputWidgets": {},
     "nuid": "64bfa029-8407-41d6-bec8-03e18749067e",
     "showTitle": false,
     "tableResultSettingsMap": {},
     "title": ""
    }
   },
   "outputs": [],
   "source": [
    "sas_token = dbutils.secrets.get('mmt','hls_cv_azSAS_mmtdevs_cv-test2')\n",
    "\n",
    "storage_account_name = \"mmtdevs\"\n",
    "container_name = \"cv-test2\"\n",
    "\n",
    "mount_name = \"hls_cv\"\n",
    "\n",
    "dbutils.fs.mount(\n",
    "    source = f\"wasbs://{container_name}@{storage_account_name}.blob.core.windows.net/\",\n",
    "    mount_point = f\"/mnt/{mount_name}\",\n",
    "    extra_configs = {f\"fs.azure.sas.{container_name}.{storage_account_name}.blob.core.windows.net\": sas_token}\n",
    ")"
   ]
  },
  {
   "cell_type": "code",
   "execution_count": 0,
   "metadata": {
    "application/vnd.databricks.v1+cell": {
     "cellMetadata": {
      "byteLimit": 2048000,
      "rowLimit": 10000
     },
     "inputWidgets": {},
     "nuid": "a0bae942-b909-4d92-b9e0-faea71deb9bf",
     "showTitle": true,
     "tableResultSettingsMap": {},
     "title": "/dbfs/mnt/hls_cv"
    }
   },
   "outputs": [],
   "source": [
    "mnts = dbutils.fs.mounts()\n",
    "\n",
    "mnts_df = spark.createDataFrame(mnts)\n",
    "cv_test_mount = mnts_df.filter(mnts_df.mountPoint.contains(\"hls_cv\"))\n",
    "display(cv_test_mount)"
   ]
  },
  {
   "cell_type": "code",
   "execution_count": 0,
   "metadata": {
    "application/vnd.databricks.v1+cell": {
     "cellMetadata": {
      "byteLimit": 2048000,
      "rowLimit": 10000
     },
     "inputWidgets": {},
     "nuid": "47207ad2-08c3-4533-b65e-be20c0bad9a9",
     "showTitle": false,
     "tableResultSettingsMap": {},
     "title": ""
    }
   },
   "outputs": [],
   "source": [
    "display(dbutils.fs.ls(\"/mnt/hls_cv/\"))"
   ]
  },
  {
   "cell_type": "code",
   "execution_count": 0,
   "metadata": {
    "application/vnd.databricks.v1+cell": {
     "cellMetadata": {
      "byteLimit": 2048000,
      "rowLimit": 10000
     },
     "inputWidgets": {},
     "nuid": "5a86c971-9598-4549-a6f8-34ec4b24f9e6",
     "showTitle": false,
     "tableResultSettingsMap": {},
     "title": ""
    }
   },
   "outputs": [],
   "source": [
    "# dbutils.fs.rm(\"/dbfs/mnt/hls_cv/test_put_str2dbfs_mnt.txt\", True)"
   ]
  },
  {
   "cell_type": "code",
   "execution_count": 0,
   "metadata": {
    "application/vnd.databricks.v1+cell": {
     "cellMetadata": {
      "byteLimit": 2048000,
      "rowLimit": 10000
     },
     "inputWidgets": {},
     "nuid": "9b72ea7f-2325-4921-8a46-3d35a44daa43",
     "showTitle": false,
     "tableResultSettingsMap": {},
     "title": ""
    }
   },
   "outputs": [],
   "source": [
    "dbutils.fs.put(\"dbfs:/mnt/hls_cv/test_put_str2dbfs_mnt.txt\", \"This is a test file.\")"
   ]
  },
  {
   "cell_type": "code",
   "execution_count": 0,
   "metadata": {
    "application/vnd.databricks.v1+cell": {
     "cellMetadata": {
      "byteLimit": 2048000,
      "rowLimit": 10000
     },
     "inputWidgets": {},
     "nuid": "c6b35949-fa92-45f5-b655-c4a7b81f3135",
     "showTitle": false,
     "tableResultSettingsMap": {},
     "title": ""
    }
   },
   "outputs": [],
   "source": [
    "display(dbutils.fs.ls(\"dbfs:/mnt/hls_cv/\"))"
   ]
  },
  {
   "cell_type": "code",
   "execution_count": 0,
   "metadata": {
    "application/vnd.databricks.v1+cell": {
     "cellMetadata": {
      "byteLimit": 2048000,
      "rowLimit": 10000
     },
     "inputWidgets": {},
     "nuid": "64061dcf-3b01-4c73-b69a-8746046a9a06",
     "showTitle": false,
     "tableResultSettingsMap": {},
     "title": ""
    }
   },
   "outputs": [],
   "source": [
    "!cat /dbfs/mnt/hls_cv/test_put_str2dbfs_mnt.txt"
   ]
  },
  {
   "cell_type": "code",
   "execution_count": 0,
   "metadata": {
    "application/vnd.databricks.v1+cell": {
     "cellMetadata": {},
     "inputWidgets": {},
     "nuid": "ec032cb5-a554-426c-bc38-e4bb539a3c98",
     "showTitle": false,
     "tableResultSettingsMap": {},
     "title": ""
    }
   },
   "outputs": [],
   "source": []
  }
 ],
 "metadata": {
  "application/vnd.databricks.v1+notebook": {
   "computePreferences": null,
   "dashboards": [],
   "environmentMetadata": {
    "base_environment": "",
    "environment_version": "2"
   },
   "language": "python",
   "notebookMetadata": {
    "pythonIndentUnit": 2
   },
   "notebookName": "setup_ExternalLocation_UCVols_dbfsmnt",
   "widgets": {}
  },
  "language_info": {
   "name": "python"
  }
 },
 "nbformat": 4,
 "nbformat_minor": 0
}
