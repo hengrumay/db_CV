{
 "cells": [
  {
   "cell_type": "code",
   "execution_count": 1,
   "metadata": {
    "application/vnd.databricks.v1+cell": {
     "cellMetadata": {
      "byteLimit": 2048000,
      "rowLimit": 10000
     },
     "inputWidgets": {},
     "nuid": "18341c43-c554-4573-b7bd-13f0bf28f64c",
     "showTitle": false,
     "tableResultSettingsMap": {},
     "title": ""
    }
   },
   "outputs": [
    {
     "name": "stdout",
     "output_type": "stream",
     "text": [
      "Collecting git+https://github.com/BlitzBricksterYY-db/ultralytics.git@main (from -r requirements.txt (line 3))\n",
      "  Cloning https://github.com/BlitzBricksterYY-db/ultralytics.git (to revision main) to /private/var/folders/mc/phm326xs6zq_qh7j4ffqc72m0000gp/T/pip-req-build-eq3k_7x4\n",
      "  Running command git clone --filter=blob:none --quiet https://github.com/BlitzBricksterYY-db/ultralytics.git /private/var/folders/mc/phm326xs6zq_qh7j4ffqc72m0000gp/T/pip-req-build-eq3k_7x4\n",
      "  Resolved https://github.com/BlitzBricksterYY-db/ultralytics.git to commit e53def376017f77fb6704ba194b4b2ea034988d4\n",
      "  Installing build dependencies ... \u001b[?25ldone\n",
      "\u001b[?25h  Getting requirements to build wheel ... \u001b[?25ldone\n",
      "\u001b[?25h  Preparing metadata (pyproject.toml) ... \u001b[?25ldone\n",
      "\u001b[?25hRequirement already satisfied: opencv-python==4.10.0.84 in /Users/will.smith/Desktop/10x/db_CV/.venv/lib/python3.12/site-packages (from -r requirements.txt (line 1)) (4.10.0.84)\n",
      "Requirement already satisfied: ray==2.39.0 in /Users/will.smith/Desktop/10x/db_CV/.venv/lib/python3.12/site-packages (from -r requirements.txt (line 2)) (2.39.0)\n",
      "Requirement already satisfied: numpy>=1.21.2 in /Users/will.smith/Desktop/10x/db_CV/.venv/lib/python3.12/site-packages (from opencv-python==4.10.0.84->-r requirements.txt (line 1)) (1.26.4)\n",
      "Requirement already satisfied: click>=7.0 in /Users/will.smith/Desktop/10x/db_CV/.venv/lib/python3.12/site-packages (from ray==2.39.0->-r requirements.txt (line 2)) (8.1.8)\n",
      "Requirement already satisfied: filelock in /Users/will.smith/Desktop/10x/db_CV/.venv/lib/python3.12/site-packages (from ray==2.39.0->-r requirements.txt (line 2)) (3.17.0)\n",
      "Requirement already satisfied: jsonschema in /Users/will.smith/Desktop/10x/db_CV/.venv/lib/python3.12/site-packages (from ray==2.39.0->-r requirements.txt (line 2)) (4.23.0)\n",
      "Requirement already satisfied: msgpack<2.0.0,>=1.0.0 in /Users/will.smith/Desktop/10x/db_CV/.venv/lib/python3.12/site-packages (from ray==2.39.0->-r requirements.txt (line 2)) (1.1.0)\n",
      "Requirement already satisfied: packaging in /Users/will.smith/Desktop/10x/db_CV/.venv/lib/python3.12/site-packages (from ray==2.39.0->-r requirements.txt (line 2)) (24.2)\n",
      "Requirement already satisfied: protobuf!=3.19.5,>=3.15.3 in /Users/will.smith/Desktop/10x/db_CV/.venv/lib/python3.12/site-packages (from ray==2.39.0->-r requirements.txt (line 2)) (5.29.3)\n",
      "Requirement already satisfied: pyyaml in /Users/will.smith/Desktop/10x/db_CV/.venv/lib/python3.12/site-packages (from ray==2.39.0->-r requirements.txt (line 2)) (6.0.2)\n",
      "Requirement already satisfied: aiosignal in /Users/will.smith/Desktop/10x/db_CV/.venv/lib/python3.12/site-packages (from ray==2.39.0->-r requirements.txt (line 2)) (1.3.2)\n",
      "Requirement already satisfied: frozenlist in /Users/will.smith/Desktop/10x/db_CV/.venv/lib/python3.12/site-packages (from ray==2.39.0->-r requirements.txt (line 2)) (1.5.0)\n",
      "Requirement already satisfied: requests in /Users/will.smith/Desktop/10x/db_CV/.venv/lib/python3.12/site-packages (from ray==2.39.0->-r requirements.txt (line 2)) (2.32.3)\n",
      "Requirement already satisfied: matplotlib>=3.3.0 in /Users/will.smith/Desktop/10x/db_CV/.venv/lib/python3.12/site-packages (from ultralytics==8.3.34->-r requirements.txt (line 3)) (3.10.0)\n",
      "Requirement already satisfied: pillow>=7.1.2 in /Users/will.smith/Desktop/10x/db_CV/.venv/lib/python3.12/site-packages (from ultralytics==8.3.34->-r requirements.txt (line 3)) (11.1.0)\n",
      "Requirement already satisfied: scipy>=1.4.1 in /Users/will.smith/Desktop/10x/db_CV/.venv/lib/python3.12/site-packages (from ultralytics==8.3.34->-r requirements.txt (line 3)) (1.15.1)\n",
      "Requirement already satisfied: torch>=1.8.0 in /Users/will.smith/Desktop/10x/db_CV/.venv/lib/python3.12/site-packages (from ultralytics==8.3.34->-r requirements.txt (line 3)) (2.6.0)\n",
      "Requirement already satisfied: torchvision>=0.9.0 in /Users/will.smith/Desktop/10x/db_CV/.venv/lib/python3.12/site-packages (from ultralytics==8.3.34->-r requirements.txt (line 3)) (0.21.0)\n",
      "Requirement already satisfied: tqdm>=4.64.0 in /Users/will.smith/Desktop/10x/db_CV/.venv/lib/python3.12/site-packages (from ultralytics==8.3.34->-r requirements.txt (line 3)) (4.67.1)\n",
      "Requirement already satisfied: psutil in /Users/will.smith/Desktop/10x/db_CV/.venv/lib/python3.12/site-packages (from ultralytics==8.3.34->-r requirements.txt (line 3)) (6.1.1)\n",
      "Requirement already satisfied: py-cpuinfo in /Users/will.smith/Desktop/10x/db_CV/.venv/lib/python3.12/site-packages (from ultralytics==8.3.34->-r requirements.txt (line 3)) (9.0.0)\n",
      "Requirement already satisfied: pandas>=1.1.4 in /Users/will.smith/Desktop/10x/db_CV/.venv/lib/python3.12/site-packages (from ultralytics==8.3.34->-r requirements.txt (line 3)) (2.2.3)\n",
      "Requirement already satisfied: seaborn>=0.11.0 in /Users/will.smith/Desktop/10x/db_CV/.venv/lib/python3.12/site-packages (from ultralytics==8.3.34->-r requirements.txt (line 3)) (0.13.2)\n",
      "Requirement already satisfied: ultralytics-thop>=2.0.0 in /Users/will.smith/Desktop/10x/db_CV/.venv/lib/python3.12/site-packages (from ultralytics==8.3.34->-r requirements.txt (line 3)) (2.0.14)\n",
      "Requirement already satisfied: contourpy>=1.0.1 in /Users/will.smith/Desktop/10x/db_CV/.venv/lib/python3.12/site-packages (from matplotlib>=3.3.0->ultralytics==8.3.34->-r requirements.txt (line 3)) (1.3.1)\n",
      "Requirement already satisfied: cycler>=0.10 in /Users/will.smith/Desktop/10x/db_CV/.venv/lib/python3.12/site-packages (from matplotlib>=3.3.0->ultralytics==8.3.34->-r requirements.txt (line 3)) (0.12.1)\n",
      "Requirement already satisfied: fonttools>=4.22.0 in /Users/will.smith/Desktop/10x/db_CV/.venv/lib/python3.12/site-packages (from matplotlib>=3.3.0->ultralytics==8.3.34->-r requirements.txt (line 3)) (4.55.8)\n",
      "Requirement already satisfied: kiwisolver>=1.3.1 in /Users/will.smith/Desktop/10x/db_CV/.venv/lib/python3.12/site-packages (from matplotlib>=3.3.0->ultralytics==8.3.34->-r requirements.txt (line 3)) (1.4.8)\n",
      "Requirement already satisfied: pyparsing>=2.3.1 in /Users/will.smith/Desktop/10x/db_CV/.venv/lib/python3.12/site-packages (from matplotlib>=3.3.0->ultralytics==8.3.34->-r requirements.txt (line 3)) (3.2.1)\n",
      "Requirement already satisfied: python-dateutil>=2.7 in /Users/will.smith/Desktop/10x/db_CV/.venv/lib/python3.12/site-packages (from matplotlib>=3.3.0->ultralytics==8.3.34->-r requirements.txt (line 3)) (2.9.0.post0)\n",
      "Requirement already satisfied: pytz>=2020.1 in /Users/will.smith/Desktop/10x/db_CV/.venv/lib/python3.12/site-packages (from pandas>=1.1.4->ultralytics==8.3.34->-r requirements.txt (line 3)) (2025.1)\n",
      "Requirement already satisfied: tzdata>=2022.7 in /Users/will.smith/Desktop/10x/db_CV/.venv/lib/python3.12/site-packages (from pandas>=1.1.4->ultralytics==8.3.34->-r requirements.txt (line 3)) (2025.1)\n",
      "Requirement already satisfied: charset-normalizer<4,>=2 in /Users/will.smith/Desktop/10x/db_CV/.venv/lib/python3.12/site-packages (from requests->ray==2.39.0->-r requirements.txt (line 2)) (3.4.1)\n",
      "Requirement already satisfied: idna<4,>=2.5 in /Users/will.smith/Desktop/10x/db_CV/.venv/lib/python3.12/site-packages (from requests->ray==2.39.0->-r requirements.txt (line 2)) (3.10)\n",
      "Requirement already satisfied: urllib3<3,>=1.21.1 in /Users/will.smith/Desktop/10x/db_CV/.venv/lib/python3.12/site-packages (from requests->ray==2.39.0->-r requirements.txt (line 2)) (2.3.0)\n",
      "Requirement already satisfied: certifi>=2017.4.17 in /Users/will.smith/Desktop/10x/db_CV/.venv/lib/python3.12/site-packages (from requests->ray==2.39.0->-r requirements.txt (line 2)) (2025.1.31)\n",
      "Requirement already satisfied: typing-extensions>=4.10.0 in /Users/will.smith/Desktop/10x/db_CV/.venv/lib/python3.12/site-packages (from torch>=1.8.0->ultralytics==8.3.34->-r requirements.txt (line 3)) (4.12.2)\n",
      "Requirement already satisfied: networkx in /Users/will.smith/Desktop/10x/db_CV/.venv/lib/python3.12/site-packages (from torch>=1.8.0->ultralytics==8.3.34->-r requirements.txt (line 3)) (3.4.2)\n",
      "Requirement already satisfied: jinja2 in /Users/will.smith/Desktop/10x/db_CV/.venv/lib/python3.12/site-packages (from torch>=1.8.0->ultralytics==8.3.34->-r requirements.txt (line 3)) (3.1.5)\n",
      "Requirement already satisfied: fsspec in /Users/will.smith/Desktop/10x/db_CV/.venv/lib/python3.12/site-packages (from torch>=1.8.0->ultralytics==8.3.34->-r requirements.txt (line 3)) (2025.2.0)\n",
      "Requirement already satisfied: setuptools in /Users/will.smith/Desktop/10x/db_CV/.venv/lib/python3.12/site-packages (from torch>=1.8.0->ultralytics==8.3.34->-r requirements.txt (line 3)) (75.8.0)\n",
      "Requirement already satisfied: sympy==1.13.1 in /Users/will.smith/Desktop/10x/db_CV/.venv/lib/python3.12/site-packages (from torch>=1.8.0->ultralytics==8.3.34->-r requirements.txt (line 3)) (1.13.1)\n",
      "Requirement already satisfied: mpmath<1.4,>=1.1.0 in /Users/will.smith/Desktop/10x/db_CV/.venv/lib/python3.12/site-packages (from sympy==1.13.1->torch>=1.8.0->ultralytics==8.3.34->-r requirements.txt (line 3)) (1.3.0)\n",
      "Requirement already satisfied: attrs>=22.2.0 in /Users/will.smith/Desktop/10x/db_CV/.venv/lib/python3.12/site-packages (from jsonschema->ray==2.39.0->-r requirements.txt (line 2)) (25.1.0)\n",
      "Requirement already satisfied: jsonschema-specifications>=2023.03.6 in /Users/will.smith/Desktop/10x/db_CV/.venv/lib/python3.12/site-packages (from jsonschema->ray==2.39.0->-r requirements.txt (line 2)) (2024.10.1)\n",
      "Requirement already satisfied: referencing>=0.28.4 in /Users/will.smith/Desktop/10x/db_CV/.venv/lib/python3.12/site-packages (from jsonschema->ray==2.39.0->-r requirements.txt (line 2)) (0.36.2)\n",
      "Requirement already satisfied: rpds-py>=0.7.1 in /Users/will.smith/Desktop/10x/db_CV/.venv/lib/python3.12/site-packages (from jsonschema->ray==2.39.0->-r requirements.txt (line 2)) (0.22.3)\n",
      "Requirement already satisfied: six>=1.5 in /Users/will.smith/Desktop/10x/db_CV/.venv/lib/python3.12/site-packages (from python-dateutil>=2.7->matplotlib>=3.3.0->ultralytics==8.3.34->-r requirements.txt (line 3)) (1.17.0)\n",
      "Requirement already satisfied: MarkupSafe>=2.0 in /Users/will.smith/Desktop/10x/db_CV/.venv/lib/python3.12/site-packages (from jinja2->torch>=1.8.0->ultralytics==8.3.34->-r requirements.txt (line 3)) (3.0.2)\n",
      "Note: you may need to restart the kernel to use updated packages.\n"
     ]
    }
   ],
   "source": [
    "%pip install -r requirements.txt\n",
    "dbutils.library.restartPython()"
   ]
  },
  {
   "cell_type": "code",
   "execution_count": 12,
   "metadata": {},
   "outputs": [],
   "source": [
    "import yaml \n",
    "import os "
   ]
  },
  {
   "cell_type": "code",
   "execution_count": 13,
   "metadata": {
    "application/vnd.databricks.v1+cell": {
     "cellMetadata": {
      "byteLimit": 2048000,
      "rowLimit": 10000
     },
     "inputWidgets": {},
     "nuid": "dfd2ee95-d9cd-4c66-a6c7-5d5ca52997f3",
     "showTitle": false,
     "tableResultSettingsMap": {},
     "title": ""
    }
   },
   "outputs": [],
   "source": [
    "# Load config\n",
    "with open('ws_config.yaml', 'r') as file:\n",
    "    config = yaml.safe_load(file)\n",
    "\n",
    "# Load environment vars and unity catalog vars \n",
    "env_vars = config['environment_variables']\n",
    "unity_catalog_vars = config['unity_catalog']"
   ]
  },
  {
   "cell_type": "code",
   "execution_count": 14,
   "metadata": {
    "application/vnd.databricks.v1+cell": {
     "cellMetadata": {
      "byteLimit": 2048000,
      "rowLimit": 10000
     },
     "inputWidgets": {},
     "nuid": "897f2383-26f3-4c63-afce-4382c36c2031",
     "showTitle": false,
     "tableResultSettingsMap": {},
     "title": ""
    }
   },
   "outputs": [],
   "source": [
    "# Set ENV vars using yaml config \n",
    "os.environ[\"CUDA_LAUNCH_BLOCKING\"] = env_vars['CUDA_LAUNCH_BLOCKING']\n",
    "os.environ['DATABRICKS_HOST'] = env_vars['DATABRICKS_HOST']\n",
    "os.environ['DATABRICKS_WORKSPACE_ID'] = env_vars['DATABRICKS_WORKSPACE_ID']\n",
    "\n",
    "# Get UC vars from config \n",
    "catalog_name = unity_catalog_vars['catalog']\n",
    "schema_name = unity_catalog_vars['schema']\n",
    "volume_name = unity_catalog_vars['volume']\n",
    "\n",
    "# Get Databricks secrets information\n",
    "databricks_token_scope = env_vars['DATABRICKS_TOKEN']['scope']\n",
    "databricks_token_key = env_vars['DATABRICKS_TOKEN']['key']\n",
    "\n",
    "# Set Databricks token using Databricks secrets\n",
    "os.environ['DATABRICKS_TOKEN'] = db_token = dbutils.secrets.get(scope=databricks_token_scope, key=databricks_token_key)"
   ]
  },
  {
   "cell_type": "code",
   "execution_count": 15,
   "metadata": {
    "application/vnd.databricks.v1+cell": {
     "cellMetadata": {
      "byteLimit": 2048000,
      "rowLimit": 10000
     },
     "inputWidgets": {},
     "nuid": "89fc2440-4609-4ae7-a94b-426a2fa8dfc7",
     "showTitle": false,
     "tableResultSettingsMap": {},
     "title": ""
    }
   },
   "outputs": [
    {
     "name": "stdout",
     "output_type": "stream",
     "text": [
      "Successfully created schema: computer_vision, and volume: yolo_data in catalog: will_smith\n"
     ]
    }
   ],
   "source": [
    "# Create assets if not exist\n",
    "\n",
    "try:\n",
    "    spark.sql(f\"CREATE CATALOG IF NOT EXISTS {catalog_name}\")\n",
    "except Exception as e:\n",
    "    if \"quota\" in str(e).lower():\n",
    "        print(\"Quota limit reached for catalog creation.\")\n",
    "        print(f\"Full error: {str(e)} \\n\")\n",
    "    else:\n",
    "        raise e\n",
    "\n",
    "# Quota limits affecting the catalog, but schema and volume should work fine. \n",
    "\n",
    "try: \n",
    "    spark.sql(f\"CREATE SCHEMA IF NOT EXISTS {catalog_name}.{schema_name}\")\n",
    "    spark.sql(f\"CREATE VOLUME IF NOT EXISTS {catalog_name}.{schema_name}.{volume_name}\")\n",
    "    print(f\"Successfully created schema: {schema_name}, and volume: {volume_name} in catalog: {catalog_name}\")\n",
    "except Exception as e:\n",
    "    raise e"
   ]
  },
  {
   "cell_type": "code",
   "execution_count": 20,
   "metadata": {},
   "outputs": [
    {
     "data": {
      "text/plain": [
       "[FileInfo(path='/Volumes/will_smith/computer_vision/yolo_data/data/', name='', size=None, modificationTime=None),\n",
       " FileInfo(path='/Volumes/will_smith/computer_vision/yolo_data/raw_model/', name='', size=None, modificationTime=None),\n",
       " FileInfo(path='/Volumes/will_smith/computer_vision/yolo_data/training_results/', name='', size=None, modificationTime=None),\n",
       " FileInfo(path='/Volumes/will_smith/computer_vision/yolo_data/training_runs/', name='', size=None, modificationTime=None)]"
      ]
     },
     "execution_count": 20,
     "metadata": {},
     "output_type": "execute_result"
    }
   ],
   "source": [
    "# Use dbutils.fs.mkdirs instead of os.makedirs to create directories in DBFS\n",
    "# due to limitations with Databricks Connect\n",
    "# otherwise may receive: PermissionError: [Errno 13] Permission denied\n",
    "\n",
    "# Config project structure directory\n",
    "project_path = f\"/Volumes/{catalog_name}/{schema_name}/{volume_name}/\"\n",
    "\n",
    "# Create project structure\n",
    "training_path = f\"{project_path}/training_runs/'\"\n",
    "result_path = f\"{project_path}/training_results/\"\n",
    "data_path = f'{project_path}/data/'\n",
    "raw_model_path = f'{project_path}/raw_model/'\n",
    "\n",
    "# for cache related to ultralytics\n",
    "os.environ['ULTRALYTICS_CACHE_DIR'] = raw_model_path\n",
    "\n",
    "dbutils.fs.mkdirs(training_path)\n",
    "dbutils.fs.mkdirs(result_path)\n",
    "dbutils.fs.mkdirs(data_path)\n",
    "dbutils.fs.mkdirs(raw_model_path)\n",
    "\n",
    "dbutils.fs.ls(project_path)"
   ]
  },
  {
   "cell_type": "markdown",
   "metadata": {},
   "source": [
    "### Optional DBFS-based code:\n",
    "\n",
    "##### More \"traditional\" way, setup folder under DBFS.\n",
    "##### dbfs_project_location = '/dbfs/FileStore/cv_project_location/yolo/'\n",
    "```python\n",
    "dbfs_project_location = '/dbfs/tmp/cv_project_location/yolo/'\n",
    "os.makedirs(dbfs_project_location, exist_ok=True)\n",
    "```\n",
    "\n",
    "##### ephemeral /tmp/ project location on VM\n",
    "```python\n",
    "tmp_project_location = \"/tmp/training_results/\"\n",
    "os.makedirs(tmp_project_location, exist_ok=True)\n",
    "```"
   ]
  },
  {
   "cell_type": "code",
   "execution_count": null,
   "metadata": {},
   "outputs": [],
   "source": []
  }
 ],
 "metadata": {
  "application/vnd.databricks.v1+notebook": {
   "computePreferences": null,
   "dashboards": [],
   "environmentMetadata": {
    "base_environment": "",
    "client": "2"
   },
   "language": "python",
   "notebookMetadata": {
    "pythonIndentUnit": 2
   },
   "notebookName": "00-setup",
   "widgets": {}
  },
  "kernelspec": {
   "display_name": ".venv",
   "language": "python",
   "name": "python3"
  },
  "language_info": {
   "codemirror_mode": {
    "name": "ipython",
    "version": 3
   },
   "file_extension": ".py",
   "mimetype": "text/x-python",
   "name": "python",
   "nbconvert_exporter": "python",
   "pygments_lexer": "ipython3",
   "version": "3.12.7"
  }
 },
 "nbformat": 4,
 "nbformat_minor": 0
}
