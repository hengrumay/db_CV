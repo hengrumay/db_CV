{
 "cells": [
  {
   "cell_type": "code",
   "execution_count": 0,
   "metadata": {
    "application/vnd.databricks.v1+cell": {
     "cellMetadata": {
      "byteLimit": 2048000,
      "rowLimit": 10000
     },
     "inputWidgets": {},
     "nuid": "18341c43-c554-4573-b7bd-13f0bf28f64c",
     "showTitle": false,
     "tableResultSettingsMap": {},
     "title": ""
    }
   },
   "outputs": [],
   "source": [
    "%pip install -r requirements.txt\n",
    "dbutils.library.restartPython()"
   ]
  },
  {
   "cell_type": "code",
   "execution_count": 0,
   "metadata": {
    "application/vnd.databricks.v1+cell": {
     "cellMetadata": {
      "byteLimit": 2048000,
      "rowLimit": 10000
     },
     "inputWidgets": {},
     "nuid": "150e4a69-db80-4d90-9c73-2bda169742c6",
     "showTitle": false,
     "tableResultSettingsMap": {},
     "title": ""
    }
   },
   "outputs": [],
   "source": [
    "import yaml \n",
    "import os \n",
    "import requests\n",
    "import zipfile\n",
    "import io\n"
   ]
  },
  {
   "cell_type": "code",
   "execution_count": 0,
   "metadata": {
    "application/vnd.databricks.v1+cell": {
     "cellMetadata": {
      "byteLimit": 2048000,
      "rowLimit": 10000
     },
     "inputWidgets": {},
     "nuid": "dfd2ee95-d9cd-4c66-a6c7-5d5ca52997f3",
     "showTitle": false,
     "tableResultSettingsMap": {},
     "title": ""
    }
   },
   "outputs": [],
   "source": [
    "# Load config\n",
    "with open('ws_config.yaml', 'r') as file:\n",
    "    config = yaml.safe_load(file)\n",
    "\n",
    "# Load environment vars and unity catalog vars \n",
    "env_vars = config['environment_variables']\n",
    "unity_catalog_vars = config['unity_catalog']"
   ]
  },
  {
   "cell_type": "code",
   "execution_count": 0,
   "metadata": {
    "application/vnd.databricks.v1+cell": {
     "cellMetadata": {
      "byteLimit": 2048000,
      "rowLimit": 10000
     },
     "inputWidgets": {},
     "nuid": "897f2383-26f3-4c63-afce-4382c36c2031",
     "showTitle": false,
     "tableResultSettingsMap": {},
     "title": ""
    }
   },
   "outputs": [],
   "source": [
    "# Set ENV vars using yaml config \n",
    "os.environ[\"CUDA_LAUNCH_BLOCKING\"] = env_vars['CUDA_LAUNCH_BLOCKING']\n",
    "os.environ['DATABRICKS_HOST'] = env_vars['DATABRICKS_HOST']\n",
    "os.environ['DATABRICKS_WORKSPACE_ID'] = env_vars['DATABRICKS_WORKSPACE_ID']\n",
    "os.environ['DEBUG'] = env_vars['DEBUG']\n",
    "\n",
    "# Get UC vars from config \n",
    "catalog_name = unity_catalog_vars['catalog']\n",
    "schema_name = unity_catalog_vars['schema']\n",
    "volume_name = unity_catalog_vars['volume']\n",
    "\n",
    "# Get Databricks secrets information\n",
    "databricks_token_scope = env_vars['DATABRICKS_TOKEN']['scope']\n",
    "databricks_token_key = env_vars['DATABRICKS_TOKEN']['key']\n",
    "\n",
    "# Set Databricks token using Databricks secrets\n",
    "os.environ['DATABRICKS_TOKEN'] = db_token = dbutils.secrets.get(scope=databricks_token_scope, key=databricks_token_key)"
   ]
  },
  {
   "cell_type": "code",
   "execution_count": 0,
   "metadata": {
    "application/vnd.databricks.v1+cell": {
     "cellMetadata": {
      "byteLimit": 2048000,
      "rowLimit": 10000
     },
     "inputWidgets": {},
     "nuid": "89fc2440-4609-4ae7-a94b-426a2fa8dfc7",
     "showTitle": false,
     "tableResultSettingsMap": {},
     "title": ""
    }
   },
   "outputs": [],
   "source": [
    "# Create assets if not exist\n",
    "\n",
    "try:\n",
    "    spark.sql(f\"CREATE CATALOG IF NOT EXISTS {catalog_name}\")\n",
    "except Exception as e:\n",
    "    if \"quota\" in str(e).lower():\n",
    "        print(\"Quota limit reached for catalog creation.\")\n",
    "        print(f\"Full error: {str(e)} \\n\")\n",
    "    else:\n",
    "        raise e\n",
    "\n",
    "# Quota limits affecting the catalog, but schema and volume should work fine. \n",
    "\n",
    "try: \n",
    "    spark.sql(f\"CREATE SCHEMA IF NOT EXISTS {catalog_name}.{schema_name}\")\n",
    "    spark.sql(f\"CREATE VOLUME IF NOT EXISTS {catalog_name}.{schema_name}.{volume_name}\")\n",
    "    print(f\"Successfully created schema: {schema_name}, and volume: {volume_name} in catalog: {catalog_name}\")\n",
    "except Exception as e:\n",
    "    raise e"
   ]
  },
  {
   "cell_type": "code",
   "execution_count": 0,
   "metadata": {
    "application/vnd.databricks.v1+cell": {
     "cellMetadata": {
      "byteLimit": 2048000,
      "rowLimit": 10000
     },
     "inputWidgets": {},
     "nuid": "de86cd41-1921-46b8-820b-258cd2f950ed",
     "showTitle": false,
     "tableResultSettingsMap": {},
     "title": ""
    }
   },
   "outputs": [],
   "source": [
    "# Use dbutils.fs.mkdirs instead of os.makedirs to create directories in DBFS\n",
    "# due to limitations with Databricks Connect\n",
    "# otherwise may receive: PermissionError: [Errno 13] Permission denied\n",
    "\n",
    "# Config project structure directory\n",
    "project_path = f\"/Volumes/{catalog_name}/{schema_name}/{volume_name}\"\n",
    "\n",
    "# Create project structure\n",
    "training_path = f\"{project_path}/training_runs/'\"\n",
    "result_path = f\"{project_path}/training_results/\"\n",
    "data_path = f'{project_path}/data/'\n",
    "raw_model_path = f'{project_path}/raw_model/'\n",
    "\n",
    "# for cache related to ultralytics\n",
    "os.environ['ULTRALYTICS_CACHE_DIR'] = raw_model_path\n",
    "\n",
    "dbutils.fs.mkdirs(training_path)\n",
    "dbutils.fs.mkdirs(result_path)\n",
    "dbutils.fs.mkdirs(data_path)\n",
    "dbutils.fs.mkdirs(raw_model_path)\n",
    "\n",
    "dbutils.fs.ls(project_path)"
   ]
  },
  {
   "cell_type": "markdown",
   "metadata": {
    "application/vnd.databricks.v1+cell": {
     "cellMetadata": {
      "byteLimit": 2048000,
      "rowLimit": 10000
     },
     "inputWidgets": {},
     "nuid": "6944d988-f499-4d47-ace0-12d7b61d0490",
     "showTitle": false,
     "tableResultSettingsMap": {},
     "title": ""
    }
   },
   "source": [
    "### Optional DBFS-based code:\n",
    "\n",
    "##### More \"traditional\" way, setup folder under DBFS.\n",
    "##### dbfs_project_location = '/dbfs/FileStore/cv_project_location/yolo/'\n",
    "```python\n",
    "dbfs_project_location = '/dbfs/tmp/cv_project_location/yolo/'\n",
    "os.makedirs(dbfs_project_location, exist_ok=True)\n",
    "```\n",
    "\n",
    "##### ephemeral /tmp/ project location on VM\n",
    "```python\n",
    "tmp_project_location = \"/tmp/training_results/\"\n",
    "os.makedirs(tmp_project_location, exist_ok=True)\n",
    "```"
   ]
  },
  {
   "cell_type": "code",
   "execution_count": 0,
   "metadata": {
    "application/vnd.databricks.v1+cell": {
     "cellMetadata": {
      "byteLimit": 2048000,
      "rowLimit": 10000
     },
     "inputWidgets": {},
     "nuid": "7ad3049b-051e-435b-999c-796988375272",
     "showTitle": false,
     "tableResultSettingsMap": {},
     "title": ""
    }
   },
   "outputs": [],
   "source": [
    "%sh\n",
    "mkdir coco_files\n",
    "curl -L https://github.com/ultralytics/ultralytics/raw/main/ultralytics/cfg/datasets/coco8.yaml -o coco_files/coco8.yaml"
   ]
  },
  {
   "cell_type": "code",
   "execution_count": 0,
   "metadata": {
    "application/vnd.databricks.v1+cell": {
     "cellMetadata": {
      "byteLimit": 2048000,
      "rowLimit": 10000
     },
     "inputWidgets": {},
     "nuid": "131c8e86-f2a3-4342-b036-1ac068ed143c",
     "showTitle": false,
     "tableResultSettingsMap": {},
     "title": ""
    }
   },
   "outputs": [],
   "source": [
    "local_coco_path = 'coco_files/coco8.yaml'\n",
    "default_coco_path = '../datasets/coco8'\n",
    "\n",
    "with open(local_coco_path, 'r') as file:\n",
    "    data = file.read()\n",
    "\n",
    "# Replace the default path with the Volumes path \n",
    "data = data.replace(default_coco_path, data_path)\n",
    "\n",
    "with open(local_coco_path, 'w') as file:\n",
    "    file.write(data)"
   ]
  },
  {
   "cell_type": "code",
   "execution_count": 0,
   "metadata": {
    "application/vnd.databricks.v1+cell": {
     "cellMetadata": {
      "byteLimit": 2048000,
      "rowLimit": 10000
     },
     "inputWidgets": {},
     "nuid": "8c3114c5-d669-4797-9e58-689d29601c38",
     "showTitle": false,
     "tableResultSettingsMap": {},
     "title": ""
    }
   },
   "outputs": [],
   "source": [
    "if os.environ['DEBUG'] == 'True': \n",
    "    with open(local_coco_path, 'r') as file:\n",
    "        data = yaml.safe_load(file)\n",
    "    display(data)\n",
    "    display(data['path'])"
   ]
  },
  {
   "cell_type": "code",
   "execution_count": 0,
   "metadata": {
    "application/vnd.databricks.v1+cell": {
     "cellMetadata": {
      "byteLimit": 2048000,
      "rowLimit": 10000
     },
     "inputWidgets": {},
     "nuid": "d0a815b9-8a1c-44ee-8d6b-8cd5f41b90fa",
     "showTitle": false,
     "tableResultSettingsMap": {},
     "title": ""
    }
   },
   "outputs": [],
   "source": [
    "download_response = requests.get(data['download'])\n",
    "raw_coco_data = zipfile.ZipFile(io.BytesIO(download_response.content))\n",
    "raw_coco_data.extractall(data['path'])"
   ]
  },
  {
   "cell_type": "code",
   "execution_count": 0,
   "metadata": {
    "application/vnd.databricks.v1+cell": {
     "cellMetadata": {
      "byteLimit": 2048000,
      "rowLimit": 10000
     },
     "inputWidgets": {},
     "nuid": "239bc48d-3521-485d-9ff2-7d8cb4be9c6e",
     "showTitle": false,
     "tableResultSettingsMap": {},
     "title": ""
    }
   },
   "outputs": [],
   "source": [
    "dbutils.fs.ls(data_path +'coco8/')"
   ]
  },
  {
   "cell_type": "markdown",
   "metadata": {
    "application/vnd.databricks.v1+cell": {
     "cellMetadata": {
      "byteLimit": 2048000,
      "rowLimit": 10000
     },
     "inputWidgets": {},
     "nuid": "96667376-d2dc-4a23-a8c4-9646fb6ff57e",
     "showTitle": false,
     "tableResultSettingsMap": {},
     "title": ""
    }
   },
   "source": [
    "\n",
    "## Now the coco8 data is in the UC Volume ready for training and evaluation! \n",
    "\n",
    "#### What's Next: [01-data-transformation](https://adb-984752964297111.11.azuredatabricks.net/editor/notebooks/4389956761274528?o=984752964297111#command/4389956761274529)"
   ]
  },
  {
   "cell_type": "code",
   "execution_count": 0,
   "metadata": {
    "application/vnd.databricks.v1+cell": {
     "cellMetadata": {
      "byteLimit": 2048000,
      "rowLimit": 10000
     },
     "inputWidgets": {},
     "nuid": "9b5c7d76-0be3-4809-80ac-0ee017ef0715",
     "showTitle": true,
     "tableResultSettingsMap": {},
     "title": "[WIP] Use if trying to run locally"
    },
    "vscode": {
     "languageId": "shellscript"
    }
   },
   "outputs": [],
   "source": [
    "# %python\n",
    "# os.environ[\"DOWNLOAD_PATH\"] = data['download']\n",
    "# os.environ[\"PERSIST_PATH\"] = data['path']\n",
    "\n",
    "# %sh\n",
    "\n",
    "# mkdir -p coco_tmp\n",
    "# curl -L $DOWNLOAD_PATH -o coco_tmp/coco8.zip\n",
    "# unzip -o coco_tmp/coco8.zip -d coco_tmp"
   ]
  }
 ],
 "metadata": {
  "application/vnd.databricks.v1+notebook": {
   "computePreferences": null,
   "dashboards": [],
   "environmentMetadata": {
    "base_environment": "",
    "environment_version": "2"
   },
   "language": "python",
   "notebookMetadata": {
    "mostRecentlyExecutedCommandWithImplicitDF": {
     "commandId": 4389956761273444,
     "dataframes": [
      "_sqldf"
     ]
    },
    "pythonIndentUnit": 2
   },
   "notebookName": "00-setup",
   "widgets": {}
  },
  "kernelspec": {
   "display_name": ".venv",
   "language": "python",
   "name": "python3"
  },
  "language_info": {
   "name": "python"
  }
 },
 "nbformat": 4,
 "nbformat_minor": 0
}
