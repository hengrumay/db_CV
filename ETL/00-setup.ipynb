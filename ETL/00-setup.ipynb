{
 "cells": [
  {
   "cell_type": "code",
   "execution_count": 1,
   "execution_count": 1,
   "metadata": {
    "application/vnd.databricks.v1+cell": {
     "cellMetadata": {
      "byteLimit": 2048000,
      "rowLimit": 10000
     },
     "inputWidgets": {},
     "nuid": "18341c43-c554-4573-b7bd-13f0bf28f64c",
     "showTitle": false,
     "tableResultSettingsMap": {},
     "title": ""
    }
   },
   "outputs": [
    {
     "name": "stdout",
     "output_type": "stream",
     "text": [
      "Collecting git+https://github.com/BlitzBricksterYY-db/ultralytics.git@main (from -r requirements.txt (line 3))\n",
      "  Cloning https://github.com/BlitzBricksterYY-db/ultralytics.git (to revision main) to /private/var/folders/mc/phm326xs6zq_qh7j4ffqc72m0000gp/T/pip-req-build-eq3k_7x4\n",
      "  Running command git clone --filter=blob:none --quiet https://github.com/BlitzBricksterYY-db/ultralytics.git /private/var/folders/mc/phm326xs6zq_qh7j4ffqc72m0000gp/T/pip-req-build-eq3k_7x4\n",
      "  Resolved https://github.com/BlitzBricksterYY-db/ultralytics.git to commit e53def376017f77fb6704ba194b4b2ea034988d4\n",
      "  Installing build dependencies ... \u001b[?25ldone\n",
      "\u001b[?25h  Getting requirements to build wheel ... \u001b[?25ldone\n",
      "\u001b[?25h  Preparing metadata (pyproject.toml) ... \u001b[?25ldone\n",
      "\u001b[?25hRequirement already satisfied: opencv-python==4.10.0.84 in /Users/will.smith/Desktop/10x/db_CV/.venv/lib/python3.12/site-packages (from -r requirements.txt (line 1)) (4.10.0.84)\n",
      "Requirement already satisfied: ray==2.39.0 in /Users/will.smith/Desktop/10x/db_CV/.venv/lib/python3.12/site-packages (from -r requirements.txt (line 2)) (2.39.0)\n",
      "Requirement already satisfied: numpy>=1.21.2 in /Users/will.smith/Desktop/10x/db_CV/.venv/lib/python3.12/site-packages (from opencv-python==4.10.0.84->-r requirements.txt (line 1)) (1.26.4)\n",
      "Requirement already satisfied: click>=7.0 in /Users/will.smith/Desktop/10x/db_CV/.venv/lib/python3.12/site-packages (from ray==2.39.0->-r requirements.txt (line 2)) (8.1.8)\n",
      "Requirement already satisfied: filelock in /Users/will.smith/Desktop/10x/db_CV/.venv/lib/python3.12/site-packages (from ray==2.39.0->-r requirements.txt (line 2)) (3.17.0)\n",
      "Requirement already satisfied: jsonschema in /Users/will.smith/Desktop/10x/db_CV/.venv/lib/python3.12/site-packages (from ray==2.39.0->-r requirements.txt (line 2)) (4.23.0)\n",
      "Requirement already satisfied: msgpack<2.0.0,>=1.0.0 in /Users/will.smith/Desktop/10x/db_CV/.venv/lib/python3.12/site-packages (from ray==2.39.0->-r requirements.txt (line 2)) (1.1.0)\n",
      "Requirement already satisfied: packaging in /Users/will.smith/Desktop/10x/db_CV/.venv/lib/python3.12/site-packages (from ray==2.39.0->-r requirements.txt (line 2)) (24.2)\n",
      "Requirement already satisfied: protobuf!=3.19.5,>=3.15.3 in /Users/will.smith/Desktop/10x/db_CV/.venv/lib/python3.12/site-packages (from ray==2.39.0->-r requirements.txt (line 2)) (5.29.3)\n",
      "Requirement already satisfied: pyyaml in /Users/will.smith/Desktop/10x/db_CV/.venv/lib/python3.12/site-packages (from ray==2.39.0->-r requirements.txt (line 2)) (6.0.2)\n",
      "Requirement already satisfied: aiosignal in /Users/will.smith/Desktop/10x/db_CV/.venv/lib/python3.12/site-packages (from ray==2.39.0->-r requirements.txt (line 2)) (1.3.2)\n",
      "Requirement already satisfied: frozenlist in /Users/will.smith/Desktop/10x/db_CV/.venv/lib/python3.12/site-packages (from ray==2.39.0->-r requirements.txt (line 2)) (1.5.0)\n",
      "Requirement already satisfied: requests in /Users/will.smith/Desktop/10x/db_CV/.venv/lib/python3.12/site-packages (from ray==2.39.0->-r requirements.txt (line 2)) (2.32.3)\n",
      "Requirement already satisfied: matplotlib>=3.3.0 in /Users/will.smith/Desktop/10x/db_CV/.venv/lib/python3.12/site-packages (from ultralytics==8.3.34->-r requirements.txt (line 3)) (3.10.0)\n",
      "Requirement already satisfied: pillow>=7.1.2 in /Users/will.smith/Desktop/10x/db_CV/.venv/lib/python3.12/site-packages (from ultralytics==8.3.34->-r requirements.txt (line 3)) (11.1.0)\n",
      "Requirement already satisfied: scipy>=1.4.1 in /Users/will.smith/Desktop/10x/db_CV/.venv/lib/python3.12/site-packages (from ultralytics==8.3.34->-r requirements.txt (line 3)) (1.15.1)\n",
      "Requirement already satisfied: torch>=1.8.0 in /Users/will.smith/Desktop/10x/db_CV/.venv/lib/python3.12/site-packages (from ultralytics==8.3.34->-r requirements.txt (line 3)) (2.6.0)\n",
      "Requirement already satisfied: torchvision>=0.9.0 in /Users/will.smith/Desktop/10x/db_CV/.venv/lib/python3.12/site-packages (from ultralytics==8.3.34->-r requirements.txt (line 3)) (0.21.0)\n",
      "Requirement already satisfied: tqdm>=4.64.0 in /Users/will.smith/Desktop/10x/db_CV/.venv/lib/python3.12/site-packages (from ultralytics==8.3.34->-r requirements.txt (line 3)) (4.67.1)\n",
      "Requirement already satisfied: psutil in /Users/will.smith/Desktop/10x/db_CV/.venv/lib/python3.12/site-packages (from ultralytics==8.3.34->-r requirements.txt (line 3)) (6.1.1)\n",
      "Requirement already satisfied: py-cpuinfo in /Users/will.smith/Desktop/10x/db_CV/.venv/lib/python3.12/site-packages (from ultralytics==8.3.34->-r requirements.txt (line 3)) (9.0.0)\n",
      "Requirement already satisfied: pandas>=1.1.4 in /Users/will.smith/Desktop/10x/db_CV/.venv/lib/python3.12/site-packages (from ultralytics==8.3.34->-r requirements.txt (line 3)) (2.2.3)\n",
      "Requirement already satisfied: seaborn>=0.11.0 in /Users/will.smith/Desktop/10x/db_CV/.venv/lib/python3.12/site-packages (from ultralytics==8.3.34->-r requirements.txt (line 3)) (0.13.2)\n",
      "Requirement already satisfied: ultralytics-thop>=2.0.0 in /Users/will.smith/Desktop/10x/db_CV/.venv/lib/python3.12/site-packages (from ultralytics==8.3.34->-r requirements.txt (line 3)) (2.0.14)\n",
      "Requirement already satisfied: contourpy>=1.0.1 in /Users/will.smith/Desktop/10x/db_CV/.venv/lib/python3.12/site-packages (from matplotlib>=3.3.0->ultralytics==8.3.34->-r requirements.txt (line 3)) (1.3.1)\n",
      "Requirement already satisfied: cycler>=0.10 in /Users/will.smith/Desktop/10x/db_CV/.venv/lib/python3.12/site-packages (from matplotlib>=3.3.0->ultralytics==8.3.34->-r requirements.txt (line 3)) (0.12.1)\n",
      "Requirement already satisfied: fonttools>=4.22.0 in /Users/will.smith/Desktop/10x/db_CV/.venv/lib/python3.12/site-packages (from matplotlib>=3.3.0->ultralytics==8.3.34->-r requirements.txt (line 3)) (4.55.8)\n",
      "Requirement already satisfied: kiwisolver>=1.3.1 in /Users/will.smith/Desktop/10x/db_CV/.venv/lib/python3.12/site-packages (from matplotlib>=3.3.0->ultralytics==8.3.34->-r requirements.txt (line 3)) (1.4.8)\n",
      "Requirement already satisfied: pyparsing>=2.3.1 in /Users/will.smith/Desktop/10x/db_CV/.venv/lib/python3.12/site-packages (from matplotlib>=3.3.0->ultralytics==8.3.34->-r requirements.txt (line 3)) (3.2.1)\n",
      "Requirement already satisfied: python-dateutil>=2.7 in /Users/will.smith/Desktop/10x/db_CV/.venv/lib/python3.12/site-packages (from matplotlib>=3.3.0->ultralytics==8.3.34->-r requirements.txt (line 3)) (2.9.0.post0)\n",
      "Requirement already satisfied: pytz>=2020.1 in /Users/will.smith/Desktop/10x/db_CV/.venv/lib/python3.12/site-packages (from pandas>=1.1.4->ultralytics==8.3.34->-r requirements.txt (line 3)) (2025.1)\n",
      "Requirement already satisfied: tzdata>=2022.7 in /Users/will.smith/Desktop/10x/db_CV/.venv/lib/python3.12/site-packages (from pandas>=1.1.4->ultralytics==8.3.34->-r requirements.txt (line 3)) (2025.1)\n",
      "Requirement already satisfied: charset-normalizer<4,>=2 in /Users/will.smith/Desktop/10x/db_CV/.venv/lib/python3.12/site-packages (from requests->ray==2.39.0->-r requirements.txt (line 2)) (3.4.1)\n",
      "Requirement already satisfied: idna<4,>=2.5 in /Users/will.smith/Desktop/10x/db_CV/.venv/lib/python3.12/site-packages (from requests->ray==2.39.0->-r requirements.txt (line 2)) (3.10)\n",
      "Requirement already satisfied: urllib3<3,>=1.21.1 in /Users/will.smith/Desktop/10x/db_CV/.venv/lib/python3.12/site-packages (from requests->ray==2.39.0->-r requirements.txt (line 2)) (2.3.0)\n",
      "Requirement already satisfied: certifi>=2017.4.17 in /Users/will.smith/Desktop/10x/db_CV/.venv/lib/python3.12/site-packages (from requests->ray==2.39.0->-r requirements.txt (line 2)) (2025.1.31)\n",
      "Requirement already satisfied: typing-extensions>=4.10.0 in /Users/will.smith/Desktop/10x/db_CV/.venv/lib/python3.12/site-packages (from torch>=1.8.0->ultralytics==8.3.34->-r requirements.txt (line 3)) (4.12.2)\n",
      "Requirement already satisfied: networkx in /Users/will.smith/Desktop/10x/db_CV/.venv/lib/python3.12/site-packages (from torch>=1.8.0->ultralytics==8.3.34->-r requirements.txt (line 3)) (3.4.2)\n",
      "Requirement already satisfied: jinja2 in /Users/will.smith/Desktop/10x/db_CV/.venv/lib/python3.12/site-packages (from torch>=1.8.0->ultralytics==8.3.34->-r requirements.txt (line 3)) (3.1.5)\n",
      "Requirement already satisfied: fsspec in /Users/will.smith/Desktop/10x/db_CV/.venv/lib/python3.12/site-packages (from torch>=1.8.0->ultralytics==8.3.34->-r requirements.txt (line 3)) (2025.2.0)\n",
      "Requirement already satisfied: setuptools in /Users/will.smith/Desktop/10x/db_CV/.venv/lib/python3.12/site-packages (from torch>=1.8.0->ultralytics==8.3.34->-r requirements.txt (line 3)) (75.8.0)\n",
      "Requirement already satisfied: sympy==1.13.1 in /Users/will.smith/Desktop/10x/db_CV/.venv/lib/python3.12/site-packages (from torch>=1.8.0->ultralytics==8.3.34->-r requirements.txt (line 3)) (1.13.1)\n",
      "Requirement already satisfied: mpmath<1.4,>=1.1.0 in /Users/will.smith/Desktop/10x/db_CV/.venv/lib/python3.12/site-packages (from sympy==1.13.1->torch>=1.8.0->ultralytics==8.3.34->-r requirements.txt (line 3)) (1.3.0)\n",
      "Requirement already satisfied: attrs>=22.2.0 in /Users/will.smith/Desktop/10x/db_CV/.venv/lib/python3.12/site-packages (from jsonschema->ray==2.39.0->-r requirements.txt (line 2)) (25.1.0)\n",
      "Requirement already satisfied: jsonschema-specifications>=2023.03.6 in /Users/will.smith/Desktop/10x/db_CV/.venv/lib/python3.12/site-packages (from jsonschema->ray==2.39.0->-r requirements.txt (line 2)) (2024.10.1)\n",
      "Requirement already satisfied: referencing>=0.28.4 in /Users/will.smith/Desktop/10x/db_CV/.venv/lib/python3.12/site-packages (from jsonschema->ray==2.39.0->-r requirements.txt (line 2)) (0.36.2)\n",
      "Requirement already satisfied: rpds-py>=0.7.1 in /Users/will.smith/Desktop/10x/db_CV/.venv/lib/python3.12/site-packages (from jsonschema->ray==2.39.0->-r requirements.txt (line 2)) (0.22.3)\n",
      "Requirement already satisfied: six>=1.5 in /Users/will.smith/Desktop/10x/db_CV/.venv/lib/python3.12/site-packages (from python-dateutil>=2.7->matplotlib>=3.3.0->ultralytics==8.3.34->-r requirements.txt (line 3)) (1.17.0)\n",
      "Requirement already satisfied: MarkupSafe>=2.0 in /Users/will.smith/Desktop/10x/db_CV/.venv/lib/python3.12/site-packages (from jinja2->torch>=1.8.0->ultralytics==8.3.34->-r requirements.txt (line 3)) (3.0.2)\n",
      "Note: you may need to restart the kernel to use updated packages.\n"
     ]
    }
   ],
   "outputs": [
    {
     "name": "stdout",
     "output_type": "stream",
     "text": [
      "Collecting git+https://github.com/BlitzBricksterYY-db/ultralytics.git@main (from -r requirements.txt (line 3))\n",
      "  Cloning https://github.com/BlitzBricksterYY-db/ultralytics.git (to revision main) to /private/var/folders/mc/phm326xs6zq_qh7j4ffqc72m0000gp/T/pip-req-build-eq3k_7x4\n",
      "  Running command git clone --filter=blob:none --quiet https://github.com/BlitzBricksterYY-db/ultralytics.git /private/var/folders/mc/phm326xs6zq_qh7j4ffqc72m0000gp/T/pip-req-build-eq3k_7x4\n",
      "  Resolved https://github.com/BlitzBricksterYY-db/ultralytics.git to commit e53def376017f77fb6704ba194b4b2ea034988d4\n",
      "  Installing build dependencies ... \u001b[?25ldone\n",
      "\u001b[?25h  Getting requirements to build wheel ... \u001b[?25ldone\n",
      "\u001b[?25h  Preparing metadata (pyproject.toml) ... \u001b[?25ldone\n",
      "\u001b[?25hRequirement already satisfied: opencv-python==4.10.0.84 in /Users/will.smith/Desktop/10x/db_CV/.venv/lib/python3.12/site-packages (from -r requirements.txt (line 1)) (4.10.0.84)\n",
      "Requirement already satisfied: ray==2.39.0 in /Users/will.smith/Desktop/10x/db_CV/.venv/lib/python3.12/site-packages (from -r requirements.txt (line 2)) (2.39.0)\n",
      "Requirement already satisfied: numpy>=1.21.2 in /Users/will.smith/Desktop/10x/db_CV/.venv/lib/python3.12/site-packages (from opencv-python==4.10.0.84->-r requirements.txt (line 1)) (1.26.4)\n",
      "Requirement already satisfied: click>=7.0 in /Users/will.smith/Desktop/10x/db_CV/.venv/lib/python3.12/site-packages (from ray==2.39.0->-r requirements.txt (line 2)) (8.1.8)\n",
      "Requirement already satisfied: filelock in /Users/will.smith/Desktop/10x/db_CV/.venv/lib/python3.12/site-packages (from ray==2.39.0->-r requirements.txt (line 2)) (3.17.0)\n",
      "Requirement already satisfied: jsonschema in /Users/will.smith/Desktop/10x/db_CV/.venv/lib/python3.12/site-packages (from ray==2.39.0->-r requirements.txt (line 2)) (4.23.0)\n",
      "Requirement already satisfied: msgpack<2.0.0,>=1.0.0 in /Users/will.smith/Desktop/10x/db_CV/.venv/lib/python3.12/site-packages (from ray==2.39.0->-r requirements.txt (line 2)) (1.1.0)\n",
      "Requirement already satisfied: packaging in /Users/will.smith/Desktop/10x/db_CV/.venv/lib/python3.12/site-packages (from ray==2.39.0->-r requirements.txt (line 2)) (24.2)\n",
      "Requirement already satisfied: protobuf!=3.19.5,>=3.15.3 in /Users/will.smith/Desktop/10x/db_CV/.venv/lib/python3.12/site-packages (from ray==2.39.0->-r requirements.txt (line 2)) (5.29.3)\n",
      "Requirement already satisfied: pyyaml in /Users/will.smith/Desktop/10x/db_CV/.venv/lib/python3.12/site-packages (from ray==2.39.0->-r requirements.txt (line 2)) (6.0.2)\n",
      "Requirement already satisfied: aiosignal in /Users/will.smith/Desktop/10x/db_CV/.venv/lib/python3.12/site-packages (from ray==2.39.0->-r requirements.txt (line 2)) (1.3.2)\n",
      "Requirement already satisfied: frozenlist in /Users/will.smith/Desktop/10x/db_CV/.venv/lib/python3.12/site-packages (from ray==2.39.0->-r requirements.txt (line 2)) (1.5.0)\n",
      "Requirement already satisfied: requests in /Users/will.smith/Desktop/10x/db_CV/.venv/lib/python3.12/site-packages (from ray==2.39.0->-r requirements.txt (line 2)) (2.32.3)\n",
      "Requirement already satisfied: matplotlib>=3.3.0 in /Users/will.smith/Desktop/10x/db_CV/.venv/lib/python3.12/site-packages (from ultralytics==8.3.34->-r requirements.txt (line 3)) (3.10.0)\n",
      "Requirement already satisfied: pillow>=7.1.2 in /Users/will.smith/Desktop/10x/db_CV/.venv/lib/python3.12/site-packages (from ultralytics==8.3.34->-r requirements.txt (line 3)) (11.1.0)\n",
      "Requirement already satisfied: scipy>=1.4.1 in /Users/will.smith/Desktop/10x/db_CV/.venv/lib/python3.12/site-packages (from ultralytics==8.3.34->-r requirements.txt (line 3)) (1.15.1)\n",
      "Requirement already satisfied: torch>=1.8.0 in /Users/will.smith/Desktop/10x/db_CV/.venv/lib/python3.12/site-packages (from ultralytics==8.3.34->-r requirements.txt (line 3)) (2.6.0)\n",
      "Requirement already satisfied: torchvision>=0.9.0 in /Users/will.smith/Desktop/10x/db_CV/.venv/lib/python3.12/site-packages (from ultralytics==8.3.34->-r requirements.txt (line 3)) (0.21.0)\n",
      "Requirement already satisfied: tqdm>=4.64.0 in /Users/will.smith/Desktop/10x/db_CV/.venv/lib/python3.12/site-packages (from ultralytics==8.3.34->-r requirements.txt (line 3)) (4.67.1)\n",
      "Requirement already satisfied: psutil in /Users/will.smith/Desktop/10x/db_CV/.venv/lib/python3.12/site-packages (from ultralytics==8.3.34->-r requirements.txt (line 3)) (6.1.1)\n",
      "Requirement already satisfied: py-cpuinfo in /Users/will.smith/Desktop/10x/db_CV/.venv/lib/python3.12/site-packages (from ultralytics==8.3.34->-r requirements.txt (line 3)) (9.0.0)\n",
      "Requirement already satisfied: pandas>=1.1.4 in /Users/will.smith/Desktop/10x/db_CV/.venv/lib/python3.12/site-packages (from ultralytics==8.3.34->-r requirements.txt (line 3)) (2.2.3)\n",
      "Requirement already satisfied: seaborn>=0.11.0 in /Users/will.smith/Desktop/10x/db_CV/.venv/lib/python3.12/site-packages (from ultralytics==8.3.34->-r requirements.txt (line 3)) (0.13.2)\n",
      "Requirement already satisfied: ultralytics-thop>=2.0.0 in /Users/will.smith/Desktop/10x/db_CV/.venv/lib/python3.12/site-packages (from ultralytics==8.3.34->-r requirements.txt (line 3)) (2.0.14)\n",
      "Requirement already satisfied: contourpy>=1.0.1 in /Users/will.smith/Desktop/10x/db_CV/.venv/lib/python3.12/site-packages (from matplotlib>=3.3.0->ultralytics==8.3.34->-r requirements.txt (line 3)) (1.3.1)\n",
      "Requirement already satisfied: cycler>=0.10 in /Users/will.smith/Desktop/10x/db_CV/.venv/lib/python3.12/site-packages (from matplotlib>=3.3.0->ultralytics==8.3.34->-r requirements.txt (line 3)) (0.12.1)\n",
      "Requirement already satisfied: fonttools>=4.22.0 in /Users/will.smith/Desktop/10x/db_CV/.venv/lib/python3.12/site-packages (from matplotlib>=3.3.0->ultralytics==8.3.34->-r requirements.txt (line 3)) (4.55.8)\n",
      "Requirement already satisfied: kiwisolver>=1.3.1 in /Users/will.smith/Desktop/10x/db_CV/.venv/lib/python3.12/site-packages (from matplotlib>=3.3.0->ultralytics==8.3.34->-r requirements.txt (line 3)) (1.4.8)\n",
      "Requirement already satisfied: pyparsing>=2.3.1 in /Users/will.smith/Desktop/10x/db_CV/.venv/lib/python3.12/site-packages (from matplotlib>=3.3.0->ultralytics==8.3.34->-r requirements.txt (line 3)) (3.2.1)\n",
      "Requirement already satisfied: python-dateutil>=2.7 in /Users/will.smith/Desktop/10x/db_CV/.venv/lib/python3.12/site-packages (from matplotlib>=3.3.0->ultralytics==8.3.34->-r requirements.txt (line 3)) (2.9.0.post0)\n",
      "Requirement already satisfied: pytz>=2020.1 in /Users/will.smith/Desktop/10x/db_CV/.venv/lib/python3.12/site-packages (from pandas>=1.1.4->ultralytics==8.3.34->-r requirements.txt (line 3)) (2025.1)\n",
      "Requirement already satisfied: tzdata>=2022.7 in /Users/will.smith/Desktop/10x/db_CV/.venv/lib/python3.12/site-packages (from pandas>=1.1.4->ultralytics==8.3.34->-r requirements.txt (line 3)) (2025.1)\n",
      "Requirement already satisfied: charset-normalizer<4,>=2 in /Users/will.smith/Desktop/10x/db_CV/.venv/lib/python3.12/site-packages (from requests->ray==2.39.0->-r requirements.txt (line 2)) (3.4.1)\n",
      "Requirement already satisfied: idna<4,>=2.5 in /Users/will.smith/Desktop/10x/db_CV/.venv/lib/python3.12/site-packages (from requests->ray==2.39.0->-r requirements.txt (line 2)) (3.10)\n",
      "Requirement already satisfied: urllib3<3,>=1.21.1 in /Users/will.smith/Desktop/10x/db_CV/.venv/lib/python3.12/site-packages (from requests->ray==2.39.0->-r requirements.txt (line 2)) (2.3.0)\n",
      "Requirement already satisfied: certifi>=2017.4.17 in /Users/will.smith/Desktop/10x/db_CV/.venv/lib/python3.12/site-packages (from requests->ray==2.39.0->-r requirements.txt (line 2)) (2025.1.31)\n",
      "Requirement already satisfied: typing-extensions>=4.10.0 in /Users/will.smith/Desktop/10x/db_CV/.venv/lib/python3.12/site-packages (from torch>=1.8.0->ultralytics==8.3.34->-r requirements.txt (line 3)) (4.12.2)\n",
      "Requirement already satisfied: networkx in /Users/will.smith/Desktop/10x/db_CV/.venv/lib/python3.12/site-packages (from torch>=1.8.0->ultralytics==8.3.34->-r requirements.txt (line 3)) (3.4.2)\n",
      "Requirement already satisfied: jinja2 in /Users/will.smith/Desktop/10x/db_CV/.venv/lib/python3.12/site-packages (from torch>=1.8.0->ultralytics==8.3.34->-r requirements.txt (line 3)) (3.1.5)\n",
      "Requirement already satisfied: fsspec in /Users/will.smith/Desktop/10x/db_CV/.venv/lib/python3.12/site-packages (from torch>=1.8.0->ultralytics==8.3.34->-r requirements.txt (line 3)) (2025.2.0)\n",
      "Requirement already satisfied: setuptools in /Users/will.smith/Desktop/10x/db_CV/.venv/lib/python3.12/site-packages (from torch>=1.8.0->ultralytics==8.3.34->-r requirements.txt (line 3)) (75.8.0)\n",
      "Requirement already satisfied: sympy==1.13.1 in /Users/will.smith/Desktop/10x/db_CV/.venv/lib/python3.12/site-packages (from torch>=1.8.0->ultralytics==8.3.34->-r requirements.txt (line 3)) (1.13.1)\n",
      "Requirement already satisfied: mpmath<1.4,>=1.1.0 in /Users/will.smith/Desktop/10x/db_CV/.venv/lib/python3.12/site-packages (from sympy==1.13.1->torch>=1.8.0->ultralytics==8.3.34->-r requirements.txt (line 3)) (1.3.0)\n",
      "Requirement already satisfied: attrs>=22.2.0 in /Users/will.smith/Desktop/10x/db_CV/.venv/lib/python3.12/site-packages (from jsonschema->ray==2.39.0->-r requirements.txt (line 2)) (25.1.0)\n",
      "Requirement already satisfied: jsonschema-specifications>=2023.03.6 in /Users/will.smith/Desktop/10x/db_CV/.venv/lib/python3.12/site-packages (from jsonschema->ray==2.39.0->-r requirements.txt (line 2)) (2024.10.1)\n",
      "Requirement already satisfied: referencing>=0.28.4 in /Users/will.smith/Desktop/10x/db_CV/.venv/lib/python3.12/site-packages (from jsonschema->ray==2.39.0->-r requirements.txt (line 2)) (0.36.2)\n",
      "Requirement already satisfied: rpds-py>=0.7.1 in /Users/will.smith/Desktop/10x/db_CV/.venv/lib/python3.12/site-packages (from jsonschema->ray==2.39.0->-r requirements.txt (line 2)) (0.22.3)\n",
      "Requirement already satisfied: six>=1.5 in /Users/will.smith/Desktop/10x/db_CV/.venv/lib/python3.12/site-packages (from python-dateutil>=2.7->matplotlib>=3.3.0->ultralytics==8.3.34->-r requirements.txt (line 3)) (1.17.0)\n",
      "Requirement already satisfied: MarkupSafe>=2.0 in /Users/will.smith/Desktop/10x/db_CV/.venv/lib/python3.12/site-packages (from jinja2->torch>=1.8.0->ultralytics==8.3.34->-r requirements.txt (line 3)) (3.0.2)\n",
      "Note: you may need to restart the kernel to use updated packages.\n"
     ]
    }
   ],
   "source": [
    "%pip install -r requirements.txt\n",
    "dbutils.library.restartPython()"
   ]
  },
  {
   "cell_type": "code",
   "execution_count": 56,
   "metadata": {},
   "outputs": [],
   "source": [
    "import yaml \n",
    "import os \n",
    "import requests\n",
    "import zipfile\n",
    "import io\n"
   ]
  },
  {
   "cell_type": "code",
   "execution_count": 50,
   "metadata": {
    "application/vnd.databricks.v1+cell": {
     "cellMetadata": {
      "byteLimit": 2048000,
      "rowLimit": 10000
     },
     "inputWidgets": {},
     "nuid": "dfd2ee95-d9cd-4c66-a6c7-5d5ca52997f3",
     "showTitle": false,
     "tableResultSettingsMap": {},
     "title": ""
    }
   },
   "outputs": [],
   "source": [
    "# Load config\n",
    "with open('ws_config.yaml', 'r') as file:\n",
    "    config = yaml.safe_load(file)\n",
    "\n",
    "# Load environment vars and unity catalog vars \n",
    "env_vars = config['environment_variables']\n",
    "unity_catalog_vars = config['unity_catalog']"
   ]
  },
  {
   "cell_type": "code",
   "execution_count": 51,
   "metadata": {
    "application/vnd.databricks.v1+cell": {
     "cellMetadata": {
      "byteLimit": 2048000,
      "rowLimit": 10000
     },
     "inputWidgets": {},
     "nuid": "897f2383-26f3-4c63-afce-4382c36c2031",
     "showTitle": false,
     "tableResultSettingsMap": {},
     "title": ""
    }
   },
   "outputs": [],
   "source": [
    "# Set ENV vars using yaml config \n",
    "os.environ[\"CUDA_LAUNCH_BLOCKING\"] = env_vars['CUDA_LAUNCH_BLOCKING']\n",
    "os.environ['DATABRICKS_HOST'] = env_vars['DATABRICKS_HOST']\n",
    "os.environ['DATABRICKS_WORKSPACE_ID'] = env_vars['DATABRICKS_WORKSPACE_ID']\n",
    "os.environ['DEBUG'] = env_vars['DEBUG']\n",
    "\n",
    "# Get UC vars from config \n",
    "catalog_name = unity_catalog_vars['catalog']\n",
    "schema_name = unity_catalog_vars['schema']\n",
    "volume_name = unity_catalog_vars['volume']\n",
    "volume_name = unity_catalog_vars['volume']\n",
    "\n",
    "# Get Databricks secrets information\n",
    "databricks_token_scope = env_vars['DATABRICKS_TOKEN']['scope']\n",
    "databricks_token_key = env_vars['DATABRICKS_TOKEN']['key']\n",
    "\n",
    "# Set Databricks token using Databricks secrets\n",
    "os.environ['DATABRICKS_TOKEN'] = db_token = dbutils.secrets.get(scope=databricks_token_scope, key=databricks_token_key)"
   ]
  },
  {
   "cell_type": "code",
   "execution_count": 15,
   "execution_count": 15,
   "metadata": {
    "application/vnd.databricks.v1+cell": {
     "cellMetadata": {
      "byteLimit": 2048000,
      "rowLimit": 10000
     },
     "inputWidgets": {},
     "nuid": "89fc2440-4609-4ae7-a94b-426a2fa8dfc7",
     "showTitle": false,
     "tableResultSettingsMap": {},
     "title": ""
    }
   },
   "outputs": [
    {
     "name": "stdout",
     "output_type": "stream",
     "text": [
      "Successfully created schema: computer_vision, and volume: yolo_data in catalog: will_smith\n"
     ]
    }
   ],
   "outputs": [
    {
     "name": "stdout",
     "output_type": "stream",
     "text": [
      "Successfully created schema: computer_vision, and volume: yolo_data in catalog: will_smith\n"
     ]
    }
   ],
   "source": [
    "# Create assets if not exist\n",
    "\n",
    "try:\n",
    "    spark.sql(f\"CREATE CATALOG IF NOT EXISTS {catalog_name}\")\n",
    "except Exception as e:\n",
    "    if \"quota\" in str(e).lower():\n",
    "        print(\"Quota limit reached for catalog creation.\")\n",
    "        print(f\"Full error: {str(e)} \\n\")\n",
    "        print(f\"Full error: {str(e)} \\n\")\n",
    "    else:\n",
    "        raise e\n",
    "\n",
    "# Quota limits affecting the catalog, but schema and volume should work fine. \n",
    "\n",
    "try: \n",
    "    spark.sql(f\"CREATE SCHEMA IF NOT EXISTS {catalog_name}.{schema_name}\")\n",
    "    spark.sql(f\"CREATE VOLUME IF NOT EXISTS {catalog_name}.{schema_name}.{volume_name}\")\n",
    "    print(f\"Successfully created schema: {schema_name}, and volume: {volume_name} in catalog: {catalog_name}\")\n",
    "except Exception as e:\n",
    "    raise e"
   ]
  },
  {
   "cell_type": "code",
   "execution_count": 97,
   "metadata": {},
   "outputs": [
    {
     "data": {
      "text/plain": [
       "[FileInfo(path='/Volumes/will_smith/computer_vision/yolo_data/data/', name='', size=None, modificationTime=None),\n",
       " FileInfo(path='/Volumes/will_smith/computer_vision/yolo_data/raw_model/', name='', size=None, modificationTime=None),\n",
       " FileInfo(path='/Volumes/will_smith/computer_vision/yolo_data/training_results/', name='', size=None, modificationTime=None),\n",
       " FileInfo(path='/Volumes/will_smith/computer_vision/yolo_data/training_runs/', name='', size=None, modificationTime=None)]"
      ]
     },
     "execution_count": 97,
     "metadata": {},
     "output_type": "execute_result"
    }
   ],
   "source": [
    "# Use dbutils.fs.mkdirs instead of os.makedirs to create directories in DBFS\n",
    "# due to limitations with Databricks Connect\n",
    "# otherwise may receive: PermissionError: [Errno 13] Permission denied\n",
    "\n",
    "# Config project structure directory\n",
    "project_path = f\"/Volumes/{catalog_name}/{schema_name}/{volume_name}\"\n",
    "\n",
    "# Create project structure\n",
    "training_path = f\"{project_path}/training_runs/'\"\n",
    "result_path = f\"{project_path}/training_results/\"\n",
    "data_path = f'{project_path}/data/'\n",
    "coco_data_path = f'{project_path}/data/coco8'\n",
    "raw_model_path = f'{project_path}/raw_model/'\n",
    "\n",
    "# for cache related to ultralytics\n",
    "os.environ['ULTRALYTICS_CACHE_DIR'] = raw_model_path\n",
    "\n",
    "dbutils.fs.mkdirs(training_path)\n",
    "dbutils.fs.mkdirs(result_path)\n",
    "dbutils.fs.mkdirs(data_path)\n",
    "dbutils.fs.mkdirs(raw_model_path)\n",
    "dbutils.fs.mkdirs(coco_data_path)\n",
    "\n",
    "dbutils.fs.ls(project_path)"
   ]
  },
  {
   "cell_type": "markdown",
   "metadata": {},
   "source": [
    "### Optional DBFS-based code:\n",
    "\n",
    "##### More \"traditional\" way, setup folder under DBFS.\n",
    "##### dbfs_project_location = '/dbfs/FileStore/cv_project_location/yolo/'\n",
    "```python\n",
    "dbfs_project_location = '/dbfs/tmp/cv_project_location/yolo/'\n",
    "os.makedirs(dbfs_project_location, exist_ok=True)\n",
    "```\n",
    "\n",
    "##### ephemeral /tmp/ project location on VM\n",
    "```python\n",
    "tmp_project_location = \"/tmp/training_results/\"\n",
    "os.makedirs(tmp_project_location, exist_ok=True)\n",
    "```"
   ]
  },
  {
   "cell_type": "code",
   "execution_count": 27,
   "metadata": {},
   "outputs": [
    {
     "name": "stderr",
     "output_type": "stream",
     "text": [
      "mkdir: coco_files: File exists\n",
      "  % Total    % Received % Xferd  Average Speed   Time    Time     Time  Current\n",
      "                                 Dload  Upload   Total   Spent    Left  Speed\n",
      "  0     0    0     0    0     0      0      0 --:--:-- --:--:-- --:--:--     0\n",
      "100  1901  100  1901    0     0   3728      0 --:--:-- --:--:-- --:--:--  3728 1901  100  1901    0     0   3727      0 --:--:-- --:--:-- --:--:--     0\n"
     ]
    }
   ],
   "source": [
    "%sh\n",
    "mkdir coco_files\n",
    "curl -L https://github.com/ultralytics/ultralytics/raw/main/ultralytics/cfg/datasets/coco8.yaml -o coco_files/coco8.yaml"
   ]
  },
  {
   "cell_type": "code",
   "execution_count": 38,
   "metadata": {},
   "outputs": [],
   "source": [
    "local_coco_path = 'coco_files/coco8.yaml'\n",
    "default_coco_path = '../datasets/'\n",
    "\n",
    "with open(local_coco_path, 'r') as file:\n",
    "    data = file.read()\n",
    "\n",
    "# Replace the default path with the Volumes path \n",
    "data = data.replace(default_coco_path, data_path)\n",
    "\n",
    "with open(local_coco_path, 'w') as file:\n",
    "    file.write(data)"
   ]
  },
  {
   "cell_type": "code",
   "execution_count": 57,
   "metadata": {},
   "outputs": [
    {
     "data": {
      "text/plain": [
       "{'path': '/Volumes/will_smith/computer_vision/yolo_data/data/coco8',\n",
       " 'train': 'images/train',\n",
       " 'val': 'images/val',\n",
       " 'test': None,\n",
       " 'names': {0: 'person',\n",
       "  1: 'bicycle',\n",
       "  2: 'car',\n",
       "  3: 'motorcycle',\n",
       "  4: 'airplane',\n",
       "  5: 'bus',\n",
       "  6: 'train',\n",
       "  7: 'truck',\n",
       "  8: 'boat',\n",
       "  9: 'traffic light',\n",
       "  10: 'fire hydrant',\n",
       "  11: 'stop sign',\n",
       "  12: 'parking meter',\n",
       "  13: 'bench',\n",
       "  14: 'bird',\n",
       "  15: 'cat',\n",
       "  16: 'dog',\n",
       "  17: 'horse',\n",
       "  18: 'sheep',\n",
       "  19: 'cow',\n",
       "  20: 'elephant',\n",
       "  21: 'bear',\n",
       "  22: 'zebra',\n",
       "  23: 'giraffe',\n",
       "  24: 'backpack',\n",
       "  25: 'umbrella',\n",
       "  26: 'handbag',\n",
       "  27: 'tie',\n",
       "  28: 'suitcase',\n",
       "  29: 'frisbee',\n",
       "  30: 'skis',\n",
       "  31: 'snowboard',\n",
       "  32: 'sports ball',\n",
       "  33: 'kite',\n",
       "  34: 'baseball bat',\n",
       "  35: 'baseball glove',\n",
       "  36: 'skateboard',\n",
       "  37: 'surfboard',\n",
       "  38: 'tennis racket',\n",
       "  39: 'bottle',\n",
       "  40: 'wine glass',\n",
       "  41: 'cup',\n",
       "  42: 'fork',\n",
       "  43: 'knife',\n",
       "  44: 'spoon',\n",
       "  45: 'bowl',\n",
       "  46: 'banana',\n",
       "  47: 'apple',\n",
       "  48: 'sandwich',\n",
       "  49: 'orange',\n",
       "  50: 'broccoli',\n",
       "  51: 'carrot',\n",
       "  52: 'hot dog',\n",
       "  53: 'pizza',\n",
       "  54: 'donut',\n",
       "  55: 'cake',\n",
       "  56: 'chair',\n",
       "  57: 'couch',\n",
       "  58: 'potted plant',\n",
       "  59: 'bed',\n",
       "  60: 'dining table',\n",
       "  61: 'toilet',\n",
       "  62: 'tv',\n",
       "  63: 'laptop',\n",
       "  64: 'mouse',\n",
       "  65: 'remote',\n",
       "  66: 'keyboard',\n",
       "  67: 'cell phone',\n",
       "  68: 'microwave',\n",
       "  69: 'oven',\n",
       "  70: 'toaster',\n",
       "  71: 'sink',\n",
       "  72: 'refrigerator',\n",
       "  73: 'book',\n",
       "  74: 'clock',\n",
       "  75: 'vase',\n",
       "  76: 'scissors',\n",
       "  77: 'teddy bear',\n",
       "  78: 'hair drier',\n",
       "  79: 'toothbrush'},\n",
       " 'download': 'https://github.com/ultralytics/assets/releases/download/v0.0.0/coco8.zip'}"
      ]
     },
     "metadata": {},
     "output_type": "display_data"
    },
    {
     "data": {
      "text/plain": [
       "'/Volumes/will_smith/computer_vision/yolo_data/data/coco8'"
      ]
     },
     "metadata": {},
     "output_type": "display_data"
    }
   ],
   "source": [
    "if os.environ['DEBUG'] == 'True': \n",
    "    with open(local_coco_path, 'r') as file:\n",
    "        data = yaml.safe_load(file)\n",
    "    display(data)\n",
    "    display(data['path'])"
   ]
  },
  {
   "cell_type": "code",
   "execution_count": 117,
   "metadata": {},
   "outputs": [],
   "source": [
    "os.environ[\"DOWNLOAD_PATH\"] = data['download']\n",
    "os.environ[\"PERSIST_PATH\"] = data['path']"
   ]
  },
  {
   "cell_type": "code",
   "execution_count": 113,
   "metadata": {
    "vscode": {
     "languageId": "shellscript"
    }
   },
   "outputs": [
    {
     "name": "stderr",
     "output_type": "stream",
     "text": [
      "  % Total    % Received % Xferd  Average Speed   Time    Time     Time  Current\n",
      "                                 Dload  Upload   Total   Spent    Left  Speed\n",
      "  0     0    0     0    0     0      0      0 --:--:-- --:--:-- --:--:--     0\n",
      "100  432k  100  432k    0     0   669k      0 --:--:-- --:--:-- --:--:-- 1348k\n"
     ]
    },
    {
     "name": "stdout",
     "output_type": "stream",
     "text": [
      "Archive:  coco_tmp/coco8.zip\n",
      "  inflating: coco_tmp/coco8/LICENSE  \n",
      "  inflating: coco_tmp/coco8/images/train/000000000009.jpg  \n",
      "  inflating: coco_tmp/coco8/images/train/000000000034.jpg  \n",
      "  inflating: coco_tmp/coco8/images/train/000000000030.jpg  \n",
      "  inflating: coco_tmp/coco8/images/train/000000000025.jpg  \n",
      "  inflating: coco_tmp/coco8/images/val/000000000049.jpg  \n",
      "  inflating: coco_tmp/coco8/images/val/000000000061.jpg  \n",
      "  inflating: coco_tmp/coco8/images/val/000000000042.jpg  \n",
      "  inflating: coco_tmp/coco8/images/val/000000000036.jpg  \n",
      "  inflating: coco_tmp/coco8/labels/train/000000000034.txt  \n",
      "  inflating: coco_tmp/coco8/labels/train/000000000009.txt  \n",
      "  inflating: coco_tmp/coco8/labels/train/000000000025.txt  \n",
      "  inflating: coco_tmp/coco8/labels/train/000000000030.txt  \n",
      "  inflating: coco_tmp/coco8/labels/val/000000000049.txt  \n",
      "  inflating: coco_tmp/coco8/labels/val/000000000061.txt  \n",
      "  inflating: coco_tmp/coco8/labels/val/000000000036.txt  \n",
      "  inflating: coco_tmp/coco8/labels/val/000000000042.txt  \n",
      "  inflating: coco_tmp/coco8/README.md  \n"
     ]
    }
   ],
   "source": [
    "%sh\n",
    "\n",
    "mkdir -p coco_tmp\n",
    "curl -L $DOWNLOAD_PATH -o coco_tmp/coco8.zip\n",
    "unzip -o coco_tmp/coco8.zip -d coco_tmp"
   ]
  },
  {
   "cell_type": "code",
   "execution_count": null,
   "metadata": {},
   "outputs": [
    {
     "ename": "ResourceDoesNotExist",
     "evalue": "No file or directory exists on path /Users/will.smith/Desktop/10x/db_CV/ETL/coco_tmp/coco8.",
     "output_type": "error",
     "traceback": [
      "\u001b[0;31m---------------------------------------------------------------------------\u001b[0m",
      "\u001b[0;31mResourceDoesNotExist\u001b[0m                      Traceback (most recent call last)",
      "Cell \u001b[0;32mIn[122], line 1\u001b[0m\n\u001b[0;32m----> 1\u001b[0m \u001b[43mdbutils\u001b[49m\u001b[38;5;241;43m.\u001b[39;49m\u001b[43mfs\u001b[49m\u001b[38;5;241;43m.\u001b[39;49m\u001b[43mmv\u001b[49m\u001b[43m(\u001b[49m\u001b[43mos\u001b[49m\u001b[38;5;241;43m.\u001b[39;49m\u001b[43mgetcwd\u001b[49m\u001b[43m(\u001b[49m\u001b[43m)\u001b[49m\u001b[43m \u001b[49m\u001b[38;5;241;43m+\u001b[39;49m\u001b[43m \u001b[49m\u001b[38;5;124;43m\"\u001b[39;49m\u001b[38;5;124;43m/coco_tmp/coco8/\u001b[39;49m\u001b[38;5;124;43m\"\u001b[39;49m\u001b[43m,\u001b[49m\u001b[43m \u001b[49m\u001b[43mdata\u001b[49m\u001b[43m[\u001b[49m\u001b[38;5;124;43m'\u001b[39;49m\u001b[38;5;124;43mpath\u001b[39;49m\u001b[38;5;124;43m'\u001b[39;49m\u001b[43m]\u001b[49m\u001b[43m)\u001b[49m\n\u001b[1;32m      2\u001b[0m \u001b[38;5;66;03m# dbutils.fs.mv(\"ETL/coco_tmp/coco8\", data['path'])\u001b[39;00m\n",
      "File \u001b[0;32m~/Desktop/10x/db_CV/.venv/lib/python3.12/site-packages/databricks/sdk/dbutils.py:67\u001b[0m, in \u001b[0;36m_FsUtil.mv\u001b[0;34m(self, from_, to, recurse)\u001b[0m\n\u001b[1;32m     65\u001b[0m \u001b[38;5;28;01mdef\u001b[39;00m\u001b[38;5;250m \u001b[39m\u001b[38;5;21mmv\u001b[39m(\u001b[38;5;28mself\u001b[39m, from_: \u001b[38;5;28mstr\u001b[39m, to: \u001b[38;5;28mstr\u001b[39m, recurse: \u001b[38;5;28mbool\u001b[39m \u001b[38;5;241m=\u001b[39m \u001b[38;5;28;01mFalse\u001b[39;00m) \u001b[38;5;241m-\u001b[39m\u001b[38;5;241m>\u001b[39m \u001b[38;5;28mbool\u001b[39m:\n\u001b[1;32m     66\u001b[0m \u001b[38;5;250m    \u001b[39m\u001b[38;5;124;03m\"\"\"Moves a file or directory, possibly across FileSystems \"\"\"\u001b[39;00m\n\u001b[0;32m---> 67\u001b[0m     \u001b[38;5;28;43mself\u001b[39;49m\u001b[38;5;241;43m.\u001b[39;49m\u001b[43m_dbfs\u001b[49m\u001b[38;5;241;43m.\u001b[39;49m\u001b[43mmove_\u001b[49m\u001b[43m(\u001b[49m\u001b[43mfrom_\u001b[49m\u001b[43m,\u001b[49m\u001b[43m \u001b[49m\u001b[43mto\u001b[49m\u001b[43m,\u001b[49m\u001b[43m \u001b[49m\u001b[43mrecursive\u001b[49m\u001b[38;5;241;43m=\u001b[39;49m\u001b[43mrecurse\u001b[49m\u001b[43m,\u001b[49m\u001b[43m \u001b[49m\u001b[43moverwrite\u001b[49m\u001b[38;5;241;43m=\u001b[39;49m\u001b[38;5;28;43;01mTrue\u001b[39;49;00m\u001b[43m)\u001b[49m\n\u001b[1;32m     68\u001b[0m     \u001b[38;5;28;01mreturn\u001b[39;00m \u001b[38;5;28;01mTrue\u001b[39;00m\n",
      "File \u001b[0;32m~/Desktop/10x/db_CV/.venv/lib/python3.12/site-packages/databricks/sdk/mixins/files.py:639\u001b[0m, in \u001b[0;36mDbfsExt.move_\u001b[0;34m(self, src, dst, recursive, overwrite)\u001b[0m\n\u001b[1;32m    637\u001b[0m     \u001b[38;5;28;01mraise\u001b[39;00m \u001b[38;5;167;01mIOError\u001b[39;00m(\u001b[38;5;124mf\u001b[39m\u001b[38;5;124m'\u001b[39m\u001b[38;5;124mmoving a directory from \u001b[39m\u001b[38;5;132;01m{\u001b[39;00msrc_type\u001b[38;5;132;01m}\u001b[39;00m\u001b[38;5;124m to \u001b[39m\u001b[38;5;132;01m{\u001b[39;00mdst_type\u001b[38;5;132;01m}\u001b[39;00m\u001b[38;5;124m requires recursive flag\u001b[39m\u001b[38;5;124m'\u001b[39m)\n\u001b[1;32m    638\u001b[0m \u001b[38;5;66;03m# do cross-fs moving\u001b[39;00m\n\u001b[0;32m--> 639\u001b[0m \u001b[38;5;28;43mself\u001b[39;49m\u001b[38;5;241;43m.\u001b[39;49m\u001b[43mcopy\u001b[49m\u001b[43m(\u001b[49m\u001b[43msrc\u001b[49m\u001b[43m,\u001b[49m\u001b[43m \u001b[49m\u001b[43mdst\u001b[49m\u001b[43m,\u001b[49m\u001b[43m \u001b[49m\u001b[43mrecursive\u001b[49m\u001b[38;5;241;43m=\u001b[39;49m\u001b[43mrecursive\u001b[49m\u001b[43m,\u001b[49m\u001b[43m \u001b[49m\u001b[43moverwrite\u001b[49m\u001b[38;5;241;43m=\u001b[39;49m\u001b[43moverwrite\u001b[49m\u001b[43m)\u001b[49m\n\u001b[1;32m    640\u001b[0m \u001b[38;5;28mself\u001b[39m\u001b[38;5;241m.\u001b[39mdelete(src, recursive\u001b[38;5;241m=\u001b[39mrecursive)\n",
      "File \u001b[0;32m~/Desktop/10x/db_CV/.venv/lib/python3.12/site-packages/databricks/sdk/mixins/files.py:620\u001b[0m, in \u001b[0;36mDbfsExt.copy\u001b[0;34m(self, src, dst, recursive, overwrite)\u001b[0m\n\u001b[1;32m    618\u001b[0m \u001b[38;5;28;01mfor\u001b[39;00m child \u001b[38;5;129;01min\u001b[39;00m queue:\n\u001b[1;32m    619\u001b[0m     child_dst \u001b[38;5;241m=\u001b[39m dst\u001b[38;5;241m.\u001b[39mchild(os\u001b[38;5;241m.\u001b[39mpath\u001b[38;5;241m.\u001b[39mrelpath(child\u001b[38;5;241m.\u001b[39mas_string, src\u001b[38;5;241m.\u001b[39mas_string))\n\u001b[0;32m--> 620\u001b[0m     \u001b[38;5;28;01mwith\u001b[39;00m \u001b[43mchild\u001b[49m\u001b[38;5;241;43m.\u001b[39;49m\u001b[43mopen\u001b[49m\u001b[43m(\u001b[49m\u001b[43mread\u001b[49m\u001b[38;5;241;43m=\u001b[39;49m\u001b[38;5;28;43;01mTrue\u001b[39;49;00m\u001b[43m)\u001b[49m \u001b[38;5;28;01mas\u001b[39;00m reader:\n\u001b[1;32m    621\u001b[0m         \u001b[38;5;28;01mwith\u001b[39;00m child_dst\u001b[38;5;241m.\u001b[39mopen(write\u001b[38;5;241m=\u001b[39m\u001b[38;5;28;01mTrue\u001b[39;00m, overwrite\u001b[38;5;241m=\u001b[39moverwrite) \u001b[38;5;28;01mas\u001b[39;00m writer:\n\u001b[1;32m    622\u001b[0m             shutil\u001b[38;5;241m.\u001b[39mcopyfileobj(reader, writer, length\u001b[38;5;241m=\u001b[39m_DbfsIO\u001b[38;5;241m.\u001b[39mMAX_CHUNK_SIZE)\n",
      "File \u001b[0;32m~/Desktop/10x/db_CV/.venv/lib/python3.12/site-packages/databricks/sdk/mixins/files.py:513\u001b[0m, in \u001b[0;36m_DbfsPath.open\u001b[0;34m(self, read, write, overwrite)\u001b[0m\n\u001b[1;32m    512\u001b[0m \u001b[38;5;28;01mdef\u001b[39;00m\u001b[38;5;250m \u001b[39m\u001b[38;5;21mopen\u001b[39m(\u001b[38;5;28mself\u001b[39m, \u001b[38;5;241m*\u001b[39m, read\u001b[38;5;241m=\u001b[39m\u001b[38;5;28;01mFalse\u001b[39;00m, write\u001b[38;5;241m=\u001b[39m\u001b[38;5;28;01mFalse\u001b[39;00m, overwrite\u001b[38;5;241m=\u001b[39m\u001b[38;5;28;01mFalse\u001b[39;00m) \u001b[38;5;241m-\u001b[39m\u001b[38;5;241m>\u001b[39m BinaryIO:\n\u001b[0;32m--> 513\u001b[0m     \u001b[38;5;28;01mreturn\u001b[39;00m \u001b[43m_DbfsIO\u001b[49m\u001b[43m(\u001b[49m\u001b[38;5;28;43mself\u001b[39;49m\u001b[38;5;241;43m.\u001b[39;49m\u001b[43m_api\u001b[49m\u001b[43m,\u001b[49m\u001b[43m \u001b[49m\u001b[38;5;28;43mself\u001b[39;49m\u001b[38;5;241;43m.\u001b[39;49m\u001b[43mas_string\u001b[49m\u001b[43m,\u001b[49m\u001b[43m \u001b[49m\u001b[43mread\u001b[49m\u001b[38;5;241;43m=\u001b[39;49m\u001b[43mread\u001b[49m\u001b[43m,\u001b[49m\u001b[43m \u001b[49m\u001b[43mwrite\u001b[49m\u001b[38;5;241;43m=\u001b[39;49m\u001b[43mwrite\u001b[49m\u001b[43m,\u001b[49m\u001b[43m \u001b[49m\u001b[43moverwrite\u001b[49m\u001b[38;5;241;43m=\u001b[39;49m\u001b[43moverwrite\u001b[49m\u001b[43m)\u001b[49m\n",
      "File \u001b[0;32m~/Desktop/10x/db_CV/.venv/lib/python3.12/site-packages/databricks/sdk/mixins/files.py:52\u001b[0m, in \u001b[0;36m_DbfsIO.__init__\u001b[0;34m(self, api, path, read, write, overwrite)\u001b[0m\n\u001b[1;32m     50\u001b[0m \u001b[38;5;28mself\u001b[39m\u001b[38;5;241m.\u001b[39m_path \u001b[38;5;241m=\u001b[39m path\n\u001b[1;32m     51\u001b[0m \u001b[38;5;28;01mif\u001b[39;00m write \u001b[38;5;129;01mand\u001b[39;00m read: \u001b[38;5;28;01mraise\u001b[39;00m \u001b[38;5;167;01mIOError\u001b[39;00m(\u001b[38;5;124mf\u001b[39m\u001b[38;5;124m'\u001b[39m\u001b[38;5;124mcan open either for reading or writing\u001b[39m\u001b[38;5;124m'\u001b[39m)\n\u001b[0;32m---> 52\u001b[0m \u001b[38;5;28;01mif\u001b[39;00m read: \u001b[38;5;28mself\u001b[39m\u001b[38;5;241m.\u001b[39m_status \u001b[38;5;241m=\u001b[39m \u001b[43mapi\u001b[49m\u001b[38;5;241;43m.\u001b[39;49m\u001b[43mget_status\u001b[49m\u001b[43m(\u001b[49m\u001b[43mpath\u001b[49m\u001b[43m)\u001b[49m\n\u001b[1;32m     53\u001b[0m \u001b[38;5;28;01melif\u001b[39;00m write: \u001b[38;5;28mself\u001b[39m\u001b[38;5;241m.\u001b[39m_created \u001b[38;5;241m=\u001b[39m api\u001b[38;5;241m.\u001b[39mcreate(path, overwrite\u001b[38;5;241m=\u001b[39moverwrite)\n\u001b[1;32m     54\u001b[0m \u001b[38;5;28;01melse\u001b[39;00m: \u001b[38;5;28;01mraise\u001b[39;00m \u001b[38;5;167;01mIOError\u001b[39;00m(\u001b[38;5;124mf\u001b[39m\u001b[38;5;124m'\u001b[39m\u001b[38;5;124mneed to open either for reading or writing\u001b[39m\u001b[38;5;124m'\u001b[39m)\n",
      "File \u001b[0;32m~/Desktop/10x/db_CV/.venv/lib/python3.12/site-packages/databricks/sdk/service/files.py:784\u001b[0m, in \u001b[0;36mDbfsAPI.get_status\u001b[0;34m(self, path)\u001b[0m\n\u001b[1;32m    781\u001b[0m \u001b[38;5;28;01mif\u001b[39;00m path \u001b[38;5;129;01mis\u001b[39;00m \u001b[38;5;129;01mnot\u001b[39;00m \u001b[38;5;28;01mNone\u001b[39;00m: query[\u001b[38;5;124m'\u001b[39m\u001b[38;5;124mpath\u001b[39m\u001b[38;5;124m'\u001b[39m] \u001b[38;5;241m=\u001b[39m path\n\u001b[1;32m    782\u001b[0m headers \u001b[38;5;241m=\u001b[39m {\u001b[38;5;124m'\u001b[39m\u001b[38;5;124mAccept\u001b[39m\u001b[38;5;124m'\u001b[39m: \u001b[38;5;124m'\u001b[39m\u001b[38;5;124mapplication/json\u001b[39m\u001b[38;5;124m'\u001b[39m, }\n\u001b[0;32m--> 784\u001b[0m res \u001b[38;5;241m=\u001b[39m \u001b[38;5;28;43mself\u001b[39;49m\u001b[38;5;241;43m.\u001b[39;49m\u001b[43m_api\u001b[49m\u001b[38;5;241;43m.\u001b[39;49m\u001b[43mdo\u001b[49m\u001b[43m(\u001b[49m\u001b[38;5;124;43m'\u001b[39;49m\u001b[38;5;124;43mGET\u001b[39;49m\u001b[38;5;124;43m'\u001b[39;49m\u001b[43m,\u001b[49m\u001b[43m \u001b[49m\u001b[38;5;124;43m'\u001b[39;49m\u001b[38;5;124;43m/api/2.0/dbfs/get-status\u001b[39;49m\u001b[38;5;124;43m'\u001b[39;49m\u001b[43m,\u001b[49m\u001b[43m \u001b[49m\u001b[43mquery\u001b[49m\u001b[38;5;241;43m=\u001b[39;49m\u001b[43mquery\u001b[49m\u001b[43m,\u001b[49m\u001b[43m \u001b[49m\u001b[43mheaders\u001b[49m\u001b[38;5;241;43m=\u001b[39;49m\u001b[43mheaders\u001b[49m\u001b[43m)\u001b[49m\n\u001b[1;32m    785\u001b[0m \u001b[38;5;28;01mreturn\u001b[39;00m FileInfo\u001b[38;5;241m.\u001b[39mfrom_dict(res)\n",
      "File \u001b[0;32m~/Desktop/10x/db_CV/.venv/lib/python3.12/site-packages/databricks/sdk/core.py:77\u001b[0m, in \u001b[0;36mApiClient.do\u001b[0;34m(self, method, path, url, query, headers, body, raw, files, data, auth, response_headers)\u001b[0m\n\u001b[1;32m     75\u001b[0m     path \u001b[38;5;241m=\u001b[39m re\u001b[38;5;241m.\u001b[39msub(\u001b[38;5;124m'\u001b[39m\u001b[38;5;124m^/api/2.0/fs/files//\u001b[39m\u001b[38;5;124m'\u001b[39m, \u001b[38;5;124m'\u001b[39m\u001b[38;5;124m/api/2.0/fs/files/\u001b[39m\u001b[38;5;124m'\u001b[39m, path)\n\u001b[1;32m     76\u001b[0m     url \u001b[38;5;241m=\u001b[39m \u001b[38;5;124mf\u001b[39m\u001b[38;5;124m\"\u001b[39m\u001b[38;5;132;01m{\u001b[39;00m\u001b[38;5;28mself\u001b[39m\u001b[38;5;241m.\u001b[39m_cfg\u001b[38;5;241m.\u001b[39mhost\u001b[38;5;132;01m}\u001b[39;00m\u001b[38;5;132;01m{\u001b[39;00mpath\u001b[38;5;132;01m}\u001b[39;00m\u001b[38;5;124m\"\u001b[39m\n\u001b[0;32m---> 77\u001b[0m \u001b[38;5;28;01mreturn\u001b[39;00m \u001b[38;5;28;43mself\u001b[39;49m\u001b[38;5;241;43m.\u001b[39;49m\u001b[43m_api_client\u001b[49m\u001b[38;5;241;43m.\u001b[39;49m\u001b[43mdo\u001b[49m\u001b[43m(\u001b[49m\u001b[43mmethod\u001b[49m\u001b[38;5;241;43m=\u001b[39;49m\u001b[43mmethod\u001b[49m\u001b[43m,\u001b[49m\n\u001b[1;32m     78\u001b[0m \u001b[43m                           \u001b[49m\u001b[43murl\u001b[49m\u001b[38;5;241;43m=\u001b[39;49m\u001b[43murl\u001b[49m\u001b[43m,\u001b[49m\n\u001b[1;32m     79\u001b[0m \u001b[43m                           \u001b[49m\u001b[43mquery\u001b[49m\u001b[38;5;241;43m=\u001b[39;49m\u001b[43mquery\u001b[49m\u001b[43m,\u001b[49m\n\u001b[1;32m     80\u001b[0m \u001b[43m                           \u001b[49m\u001b[43mheaders\u001b[49m\u001b[38;5;241;43m=\u001b[39;49m\u001b[43mheaders\u001b[49m\u001b[43m,\u001b[49m\n\u001b[1;32m     81\u001b[0m \u001b[43m                           \u001b[49m\u001b[43mbody\u001b[49m\u001b[38;5;241;43m=\u001b[39;49m\u001b[43mbody\u001b[49m\u001b[43m,\u001b[49m\n\u001b[1;32m     82\u001b[0m \u001b[43m                           \u001b[49m\u001b[43mraw\u001b[49m\u001b[38;5;241;43m=\u001b[39;49m\u001b[43mraw\u001b[49m\u001b[43m,\u001b[49m\n\u001b[1;32m     83\u001b[0m \u001b[43m                           \u001b[49m\u001b[43mfiles\u001b[49m\u001b[38;5;241;43m=\u001b[39;49m\u001b[43mfiles\u001b[49m\u001b[43m,\u001b[49m\n\u001b[1;32m     84\u001b[0m \u001b[43m                           \u001b[49m\u001b[43mdata\u001b[49m\u001b[38;5;241;43m=\u001b[39;49m\u001b[43mdata\u001b[49m\u001b[43m,\u001b[49m\n\u001b[1;32m     85\u001b[0m \u001b[43m                           \u001b[49m\u001b[43mauth\u001b[49m\u001b[38;5;241;43m=\u001b[39;49m\u001b[43mauth\u001b[49m\u001b[43m,\u001b[49m\n\u001b[1;32m     86\u001b[0m \u001b[43m                           \u001b[49m\u001b[43mresponse_headers\u001b[49m\u001b[38;5;241;43m=\u001b[39;49m\u001b[43mresponse_headers\u001b[49m\u001b[43m)\u001b[49m\n",
      "File \u001b[0;32m~/Desktop/10x/db_CV/.venv/lib/python3.12/site-packages/databricks/sdk/_base_client.py:186\u001b[0m, in \u001b[0;36m_BaseClient.do\u001b[0;34m(self, method, url, query, headers, body, raw, files, data, auth, response_headers)\u001b[0m\n\u001b[1;32m    183\u001b[0m     logger\u001b[38;5;241m.\u001b[39mdebug(\u001b[38;5;124mf\u001b[39m\u001b[38;5;124m\"\u001b[39m\u001b[38;5;124mRetry disabled for non-seekable stream: type=\u001b[39m\u001b[38;5;132;01m{\u001b[39;00m\u001b[38;5;28mtype\u001b[39m(data)\u001b[38;5;132;01m}\u001b[39;00m\u001b[38;5;124m\"\u001b[39m)\n\u001b[1;32m    184\u001b[0m     call \u001b[38;5;241m=\u001b[39m \u001b[38;5;28mself\u001b[39m\u001b[38;5;241m.\u001b[39m_perform\n\u001b[0;32m--> 186\u001b[0m response \u001b[38;5;241m=\u001b[39m \u001b[43mcall\u001b[49m\u001b[43m(\u001b[49m\u001b[43mmethod\u001b[49m\u001b[43m,\u001b[49m\n\u001b[1;32m    187\u001b[0m \u001b[43m                \u001b[49m\u001b[43murl\u001b[49m\u001b[43m,\u001b[49m\n\u001b[1;32m    188\u001b[0m \u001b[43m                \u001b[49m\u001b[43mquery\u001b[49m\u001b[38;5;241;43m=\u001b[39;49m\u001b[43mquery\u001b[49m\u001b[43m,\u001b[49m\n\u001b[1;32m    189\u001b[0m \u001b[43m                \u001b[49m\u001b[43mheaders\u001b[49m\u001b[38;5;241;43m=\u001b[39;49m\u001b[43mheaders\u001b[49m\u001b[43m,\u001b[49m\n\u001b[1;32m    190\u001b[0m \u001b[43m                \u001b[49m\u001b[43mbody\u001b[49m\u001b[38;5;241;43m=\u001b[39;49m\u001b[43mbody\u001b[49m\u001b[43m,\u001b[49m\n\u001b[1;32m    191\u001b[0m \u001b[43m                \u001b[49m\u001b[43mraw\u001b[49m\u001b[38;5;241;43m=\u001b[39;49m\u001b[43mraw\u001b[49m\u001b[43m,\u001b[49m\n\u001b[1;32m    192\u001b[0m \u001b[43m                \u001b[49m\u001b[43mfiles\u001b[49m\u001b[38;5;241;43m=\u001b[39;49m\u001b[43mfiles\u001b[49m\u001b[43m,\u001b[49m\n\u001b[1;32m    193\u001b[0m \u001b[43m                \u001b[49m\u001b[43mdata\u001b[49m\u001b[38;5;241;43m=\u001b[39;49m\u001b[43mdata\u001b[49m\u001b[43m,\u001b[49m\n\u001b[1;32m    194\u001b[0m \u001b[43m                \u001b[49m\u001b[43mauth\u001b[49m\u001b[38;5;241;43m=\u001b[39;49m\u001b[43mauth\u001b[49m\u001b[43m)\u001b[49m\n\u001b[1;32m    196\u001b[0m resp \u001b[38;5;241m=\u001b[39m \u001b[38;5;28mdict\u001b[39m()\n\u001b[1;32m    197\u001b[0m \u001b[38;5;28;01mfor\u001b[39;00m header \u001b[38;5;129;01min\u001b[39;00m response_headers \u001b[38;5;28;01mif\u001b[39;00m response_headers \u001b[38;5;28;01melse\u001b[39;00m []:\n",
      "File \u001b[0;32m~/Desktop/10x/db_CV/.venv/lib/python3.12/site-packages/databricks/sdk/retries.py:55\u001b[0m, in \u001b[0;36mretried.<locals>.decorator.<locals>.wrapper\u001b[0;34m(*args, **kwargs)\u001b[0m\n\u001b[1;32m     51\u001b[0m         retry_reason \u001b[38;5;241m=\u001b[39m \u001b[38;5;124mf\u001b[39m\u001b[38;5;124m'\u001b[39m\u001b[38;5;132;01m{\u001b[39;00m\u001b[38;5;28mtype\u001b[39m(err)\u001b[38;5;241m.\u001b[39m\u001b[38;5;18m__name__\u001b[39m\u001b[38;5;132;01m}\u001b[39;00m\u001b[38;5;124m is allowed to retry\u001b[39m\u001b[38;5;124m'\u001b[39m\n\u001b[1;32m     53\u001b[0m \u001b[38;5;28;01mif\u001b[39;00m retry_reason \u001b[38;5;129;01mis\u001b[39;00m \u001b[38;5;28;01mNone\u001b[39;00m:\n\u001b[1;32m     54\u001b[0m     \u001b[38;5;66;03m# raise if exception is not retryable\u001b[39;00m\n\u001b[0;32m---> 55\u001b[0m     \u001b[38;5;28;01mraise\u001b[39;00m err\n\u001b[1;32m     57\u001b[0m logger\u001b[38;5;241m.\u001b[39mdebug(\u001b[38;5;124mf\u001b[39m\u001b[38;5;124m'\u001b[39m\u001b[38;5;124mRetrying: \u001b[39m\u001b[38;5;132;01m{\u001b[39;00mretry_reason\u001b[38;5;132;01m}\u001b[39;00m\u001b[38;5;124m (sleeping ~\u001b[39m\u001b[38;5;132;01m{\u001b[39;00msleep\u001b[38;5;132;01m}\u001b[39;00m\u001b[38;5;124ms)\u001b[39m\u001b[38;5;124m'\u001b[39m)\n\u001b[1;32m     58\u001b[0m \u001b[38;5;28;01mif\u001b[39;00m before_retry:\n",
      "File \u001b[0;32m~/Desktop/10x/db_CV/.venv/lib/python3.12/site-packages/databricks/sdk/retries.py:34\u001b[0m, in \u001b[0;36mretried.<locals>.decorator.<locals>.wrapper\u001b[0;34m(*args, **kwargs)\u001b[0m\n\u001b[1;32m     32\u001b[0m \u001b[38;5;28;01mwhile\u001b[39;00m clock\u001b[38;5;241m.\u001b[39mtime() \u001b[38;5;241m<\u001b[39m deadline:\n\u001b[1;32m     33\u001b[0m     \u001b[38;5;28;01mtry\u001b[39;00m:\n\u001b[0;32m---> 34\u001b[0m         \u001b[38;5;28;01mreturn\u001b[39;00m \u001b[43mfunc\u001b[49m\u001b[43m(\u001b[49m\u001b[38;5;241;43m*\u001b[39;49m\u001b[43margs\u001b[49m\u001b[43m,\u001b[49m\u001b[43m \u001b[49m\u001b[38;5;241;43m*\u001b[39;49m\u001b[38;5;241;43m*\u001b[39;49m\u001b[43mkwargs\u001b[49m\u001b[43m)\u001b[49m\n\u001b[1;32m     35\u001b[0m     \u001b[38;5;28;01mexcept\u001b[39;00m \u001b[38;5;167;01mException\u001b[39;00m \u001b[38;5;28;01mas\u001b[39;00m err:\n\u001b[1;32m     36\u001b[0m         last_err \u001b[38;5;241m=\u001b[39m err\n",
      "File \u001b[0;32m~/Desktop/10x/db_CV/.venv/lib/python3.12/site-packages/databricks/sdk/_base_client.py:278\u001b[0m, in \u001b[0;36m_BaseClient._perform\u001b[0;34m(self, method, url, query, headers, body, raw, files, data, auth)\u001b[0m\n\u001b[1;32m    276\u001b[0m error \u001b[38;5;241m=\u001b[39m \u001b[38;5;28mself\u001b[39m\u001b[38;5;241m.\u001b[39m_error_parser\u001b[38;5;241m.\u001b[39mget_api_error(response)\n\u001b[1;32m    277\u001b[0m \u001b[38;5;28;01mif\u001b[39;00m error \u001b[38;5;129;01mis\u001b[39;00m \u001b[38;5;129;01mnot\u001b[39;00m \u001b[38;5;28;01mNone\u001b[39;00m:\n\u001b[0;32m--> 278\u001b[0m     \u001b[38;5;28;01mraise\u001b[39;00m error \u001b[38;5;28;01mfrom\u001b[39;00m\u001b[38;5;250m \u001b[39m\u001b[38;5;28;01mNone\u001b[39;00m\n\u001b[1;32m    280\u001b[0m \u001b[38;5;28;01mreturn\u001b[39;00m response\n",
      "\u001b[0;31mResourceDoesNotExist\u001b[0m: No file or directory exists on path /Users/will.smith/Desktop/10x/db_CV/ETL/coco_tmp/coco8."
     ]
    }
   ],
   "source": [
    "dbutils.fs.mv(os.getcwd() + \"/coco_tmp/coco8/\", data['path'])\n",
    "\n"
   ]
  },
  {
   "cell_type": "code",
   "execution_count": null,
   "metadata": {},
   "outputs": [],
   "source": []
  }
 ],
 "metadata": {
  "application/vnd.databricks.v1+notebook": {
   "computePreferences": null,
   "dashboards": [],
   "environmentMetadata": {
    "base_environment": "",
    "client": "2"
   },
   "language": "python",
   "notebookMetadata": {
    "pythonIndentUnit": 2
   },
   "notebookName": "00-setup",
   "widgets": {}
  },
  "kernelspec": {
   "display_name": ".venv",
   "language": "python",
   "name": "python3"
  },
  "kernelspec": {
   "display_name": ".venv",
   "language": "python",
   "name": "python3"
  },
  "language_info": {
   "codemirror_mode": {
    "name": "ipython",
    "version": 3
   },
   "file_extension": ".py",
   "mimetype": "text/x-python",
   "name": "python",
   "nbconvert_exporter": "python",
   "pygments_lexer": "ipython3",
   "version": "3.12.7"
   "codemirror_mode": {
    "name": "ipython",
    "version": 3
   },
   "file_extension": ".py",
   "mimetype": "text/x-python",
   "name": "python",
   "nbconvert_exporter": "python",
   "pygments_lexer": "ipython3",
   "version": "3.12.7"
  }
 },
 "nbformat": 4,
 "nbformat_minor": 0
}
