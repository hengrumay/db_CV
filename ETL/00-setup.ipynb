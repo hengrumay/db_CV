{
 "cells": [
  {
   "cell_type": "code",
   "execution_count": 0,
   "metadata": {
    "application/vnd.databricks.v1+cell": {
     "cellMetadata": {
      "byteLimit": 2048000,
      "rowLimit": 10000
     },
     "inputWidgets": {},
     "nuid": "18341c43-c554-4573-b7bd-13f0bf28f64c",
     "showTitle": false,
     "tableResultSettingsMap": {},
     "title": ""
    }
   },
   "outputs": [],
   "source": [
    "%pip install -r requirements.txt\n",
    "dbutils.library.restartPython()"
   ]
  },
  {
   "cell_type": "code",
   "execution_count": 0,
   "metadata": {
    "application/vnd.databricks.v1+cell": {
     "cellMetadata": {
      "byteLimit": 2048000,
      "rowLimit": 10000
     },
     "inputWidgets": {},
     "nuid": "dfd2ee95-d9cd-4c66-a6c7-5d5ca52997f3",
     "showTitle": false,
     "tableResultSettingsMap": {},
     "title": ""
    }
   },
   "outputs": [],
   "source": [
    "import yaml\n",
    "\n",
    "# Load config\n",
    "with open('ws_config.yaml', 'r') as file:\n",
    "    config = yaml.safe_load(file)\n",
    "\n",
    "# Load environment vars and unity catalog vars \n",
    "env_vars = config['environment_variables']\n",
    "unity_catalog_vars = config['unity_catalog']"
   ]
  },
  {
   "cell_type": "code",
   "execution_count": 0,
   "metadata": {
    "application/vnd.databricks.v1+cell": {
     "cellMetadata": {
      "byteLimit": 2048000,
      "rowLimit": 10000
     },
     "inputWidgets": {},
     "nuid": "897f2383-26f3-4c63-afce-4382c36c2031",
     "showTitle": false,
     "tableResultSettingsMap": {},
     "title": ""
    }
   },
   "outputs": [],
   "source": [
    "import os \n",
    "\n",
    "# Set ENV vars using yaml config \n",
    "os.environ[\"CUDA_LAUNCH_BLOCKING\"] = env_vars['CUDA_LAUNCH_BLOCKING']\n",
    "os.environ['DATABRICKS_HOST'] = env_vars['DATABRICKS_HOST']\n",
    "os.environ['DATABRICKS_WORKSPACE_ID'] = env_vars['DATABRICKS_WORKSPACE_ID']\n",
    "\n",
    "# Get UC vars from config \n",
    "catalog_name = unity_catalog_vars['catalog']\n",
    "schema_name = unity_catalog_vars['schema']\n",
    "volume_name = unity_catalog_vars['schema']\n",
    "\n",
    "# Get Databricks secrets information\n",
    "databricks_token_scope = env_vars['DATABRICKS_TOKEN']['scope']\n",
    "databricks_token_key = env_vars['DATABRICKS_TOKEN']['key']\n",
    "\n",
    "# Set Databricks token using Databricks secrets\n",
    "os.environ['DATABRICKS_TOKEN'] = db_token = dbutils.secrets.get(scope=databricks_token_scope, key=databricks_token_key)"
   ]
  },
  {
   "cell_type": "code",
   "execution_count": 0,
   "metadata": {
    "application/vnd.databricks.v1+cell": {
     "cellMetadata": {
      "byteLimit": 2048000,
      "rowLimit": 10000
     },
     "inputWidgets": {},
     "nuid": "806a10f9-9aa2-4b3a-bb7b-3156173859c8",
     "showTitle": false,
     "tableResultSettingsMap": {},
     "title": ""
    }
   },
   "outputs": [],
   "source": [
    "catalog_name"
   ]
  },
  {
   "cell_type": "code",
   "execution_count": 0,
   "metadata": {
    "application/vnd.databricks.v1+cell": {
     "cellMetadata": {
      "byteLimit": 2048000,
      "rowLimit": 10000
     },
     "inputWidgets": {},
     "nuid": "89fc2440-4609-4ae7-a94b-426a2fa8dfc7",
     "showTitle": false,
     "tableResultSettingsMap": {},
     "title": ""
    }
   },
   "outputs": [],
   "source": [
    "# Create assets if not exist\n",
    "\n",
    "try:\n",
    "    spark.sql(f\"CREATE CATALOG IF NOT EXISTS {catalog_name}\")\n",
    "except Exception as e:\n",
    "    if \"quota\" in str(e).lower():\n",
    "        print(\"Quota limit reached for catalog creation.\")\n",
    "    else:\n",
    "        raise e\n",
    "\n",
    "# Quota limits affecting the catalog, but schema and volume should work fine. \n",
    "\n",
    "try: \n",
    "    spark.sql(f\"CREATE SCHEMA IF NOT EXISTS {catalog_name}.{schema_name}\")\n",
    "    spark.sql(f\"CREATE VOLUME IF NOT EXISTS {catalog_name}.{schema_name}.{volume_name}\")\n",
    "    print(f\"Successfully created schema: {schema_name}, and volume: {volume_name} in catalog: {catalog_name}\")\n",
    "except Exception as e:\n",
    "    raise e"
   ]
  },
  {
   "cell_type": "code",
   "execution_count": 0,
   "metadata": {
    "application/vnd.databricks.v1+cell": {
     "cellMetadata": {},
     "inputWidgets": {},
     "nuid": "1fa76af7-3928-4124-894b-a41108f3951e",
     "showTitle": false,
     "tableResultSettingsMap": {},
     "title": ""
    }
   },
   "outputs": [],
   "source": []
  }
 ],
 "metadata": {
  "application/vnd.databricks.v1+notebook": {
   "computePreferences": null,
   "dashboards": [],
   "environmentMetadata": {
    "base_environment": "",
    "client": "2"
   },
   "language": "python",
   "notebookMetadata": {
    "pythonIndentUnit": 2
   },
   "notebookName": "00-setup",
   "widgets": {}
  },
  "language_info": {
   "name": "python"
  }
 },
 "nbformat": 4,
 "nbformat_minor": 0
}
