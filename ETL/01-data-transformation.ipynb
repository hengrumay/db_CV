{
 "cells": [
  {
   "cell_type": "code",
   "execution_count": 0,
   "metadata": {
    "application/vnd.databricks.v1+cell": {
     "cellMetadata": {
      "byteLimit": 2048000,
      "rowLimit": 10000
     },
     "inputWidgets": {},
     "nuid": "7128cc90-d40b-42dc-866c-037536faeb62",
     "showTitle": false,
     "tableResultSettingsMap": {},
     "title": ""
    }
   },
   "outputs": [],
   "source": [
    "%pip install -r requirements.txt\n",
    "dbutils.library.restartPython()"
   ]
  },
  {
   "cell_type": "code",
   "execution_count": 0,
   "metadata": {
    "application/vnd.databricks.v1+cell": {
     "cellMetadata": {
      "byteLimit": 2048000,
      "rowLimit": 10000
     },
     "inputWidgets": {},
     "nuid": "d1cf6fca-7433-423e-89e2-834bb96b02d2",
     "showTitle": false,
     "tableResultSettingsMap": {},
     "title": ""
    }
   },
   "outputs": [],
   "source": [
    "import yaml \n",
    "import os "
   ]
  },
  {
   "cell_type": "code",
   "execution_count": 0,
   "metadata": {
    "application/vnd.databricks.v1+cell": {
     "cellMetadata": {
      "byteLimit": 2048000,
      "rowLimit": 10000
     },
     "inputWidgets": {},
     "nuid": "92a31fe3-e535-45cc-b14c-4f716b73bc11",
     "showTitle": false,
     "tableResultSettingsMap": {},
     "title": ""
    }
   },
   "outputs": [],
   "source": [
    "# Load config\n",
    "with open('ws_config.yaml', 'r') as file:\n",
    "    config = yaml.safe_load(file)\n",
    "\n",
    "# Load environment vars \n",
    "env_vars = config['environment_variables']"
   ]
  },
  {
   "cell_type": "code",
   "execution_count": 0,
   "metadata": {
    "application/vnd.databricks.v1+cell": {
     "cellMetadata": {
      "byteLimit": 2048000,
      "rowLimit": 10000
     },
     "inputWidgets": {},
     "nuid": "75da6860-9836-4fc7-8fd4-7b2078066045",
     "showTitle": false,
     "tableResultSettingsMap": {},
     "title": ""
    }
   },
   "outputs": [],
   "source": [
    "# Set ENV vars using yaml config \n",
    "os.environ[\"CUDA_LAUNCH_BLOCKING\"] = env_vars['CUDA_LAUNCH_BLOCKING']\n",
    "os.environ['DATABRICKS_HOST'] = env_vars['DATABRICKS_HOST']\n",
    "os.environ['DATABRICKS_WORKSPACE_ID'] = env_vars['DATABRICKS_WORKSPACE_ID']\n",
    "os.environ['DEBUG'] = env_vars['DEBUG']\n",
    "\n",
    "# Get Databricks secrets information\n",
    "databricks_token_scope = env_vars['DATABRICKS_TOKEN']['scope']\n",
    "databricks_token_key = env_vars['DATABRICKS_TOKEN']['key']\n",
    "\n",
    "# Set Databricks token using Databricks secrets\n",
    "os.environ['DATABRICKS_TOKEN'] = db_token = dbutils.secrets.get(scope=databricks_token_scope, key=databricks_token_key)"
   ]
  },
  {
   "cell_type": "code",
   "execution_count": 0,
   "metadata": {
    "application/vnd.databricks.v1+cell": {
     "cellMetadata": {},
     "inputWidgets": {},
     "nuid": "4cdd47c2-b785-4b18-b0ab-3ecb5592043e",
     "showTitle": false,
     "tableResultSettingsMap": {},
     "title": ""
    }
   },
   "outputs": [],
   "source": []
  }
 ],
 "metadata": {
  "application/vnd.databricks.v1+notebook": {
   "computePreferences": null,
   "dashboards": [],
   "environmentMetadata": {
    "base_environment": "",
    "environment_version": "2"
   },
   "language": "python",
   "notebookMetadata": {
    "pythonIndentUnit": 2
   },
   "notebookName": "01-data-transformation",
   "widgets": {}
  },
  "language_info": {
   "name": "python"
  }
 },
 "nbformat": 4,
 "nbformat_minor": 0
}
