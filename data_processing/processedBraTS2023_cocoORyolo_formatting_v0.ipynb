{
 "cells": [
  {
   "cell_type": "code",
   "execution_count": 0,
   "metadata": {
    "application/vnd.databricks.v1+cell": {
     "cellMetadata": {
      "byteLimit": 2048000,
      "rowLimit": 10000
     },
     "inputWidgets": {},
     "nuid": "9f705936-3087-4f2e-bdf4-3effc08f1017",
     "showTitle": false,
     "tableResultSettingsMap": {},
     "title": ""
    }
   },
   "outputs": [],
   "source": [
    "# Install the ultralytics library\n",
    "%pip install ultralytics --upgrade\n",
    "\n",
    "# Import necessary modules\n",
    "from ultralytics import YOLO\n",
    "import torch.distributed as dist\n",
    "\n",
    "# Initialize the process group [for gpu]\n",
    "dist.init_process_group(backend='nccl')\n",
    "\n",
    "# Load the model\n",
    "model = YOLO('yolov8n.pt')\n",
    "\n",
    "# Load the dataset and train the model using the YAML configuration file\n",
    "dataset_path = 'ultralytics/cfg/datasets/coco8-seg.yaml'\n",
    "model.train(data=dataset_path)\n"
   ]
  },
  {
   "cell_type": "code",
   "execution_count": 0,
   "metadata": {
    "application/vnd.databricks.v1+cell": {
     "cellMetadata": {
      "byteLimit": 2048000,
      "rowLimit": 10000
     },
     "inputWidgets": {},
     "nuid": "4094ea87-5b35-4bb9-b0ac-518081f3a38c",
     "showTitle": false,
     "tableResultSettingsMap": {},
     "title": ""
    }
   },
   "outputs": [],
   "source": [
    "# Install the ultralytics library\n",
    "%pip install ultralytics --upgrade\n",
    "\n",
    "# Import necessary modules\n",
    "from ultralytics import YOLO\n",
    "\n",
    "# Load the model\n",
    "model = YOLO('yolov8n.pt')\n",
    "\n",
    "# Load the dataset using the YAML configuration file\n",
    "dataset_path = 'ultralytics/cfg/datasets/coco8-seg.yaml'\n",
    "model.load_data(dataset_path)\n",
    "\n",
    "# Display the data structure and data\n",
    "data = model.data\n",
    "display(data)"
   ]
  },
  {
   "cell_type": "code",
   "execution_count": 0,
   "metadata": {
    "application/vnd.databricks.v1+cell": {
     "cellMetadata": {},
     "inputWidgets": {},
     "nuid": "06449dfe-3636-4a7e-809d-66608b5861d6",
     "showTitle": false,
     "tableResultSettingsMap": {},
     "title": ""
    }
   },
   "outputs": [],
   "source": []
  }
 ],
 "metadata": {
  "application/vnd.databricks.v1+notebook": {
   "computePreferences": null,
   "dashboards": [],
   "environmentMetadata": {
    "base_environment": "",
    "client": "1"
   },
   "language": "python",
   "notebookMetadata": {
    "pythonIndentUnit": 2
   },
   "notebookName": "processedBraTS2023_cocoORyolo_formatting_v0",
   "widgets": {}
  },
  "language_info": {
   "name": "python"
  }
 },
 "nbformat": 4,
 "nbformat_minor": 0
}
