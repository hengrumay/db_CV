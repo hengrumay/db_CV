{
 "cells": [
  {
   "cell_type": "code",
   "execution_count": 0,
   "metadata": {
    "application/vnd.databricks.v1+cell": {
     "cellMetadata": {},
     "inputWidgets": {},
     "nuid": "5c80c10e-5a2c-4bb5-95f0-ad7b68c986de",
     "showTitle": false,
     "tableResultSettingsMap": {},
     "title": ""
    }
   },
   "outputs": [],
   "source": [
    "# mount ref https://adb-984752964297111.11.azuredatabricks.net/editor/notebooks/1242762840109196?o=984752964297111#command/1242762840109197 "
   ]
  },
  {
   "cell_type": "code",
   "execution_count": 0,
   "metadata": {
    "application/vnd.databricks.v1+cell": {
     "cellMetadata": {
      "byteLimit": 2048000,
      "rowLimit": 10000
     },
     "inputWidgets": {},
     "nuid": "347ce00f-0f16-493b-a382-02347f40422a",
     "showTitle": false,
     "tableResultSettingsMap": {},
     "title": ""
    }
   },
   "outputs": [],
   "source": [
    "mnts = dbutils.fs.mounts()\n",
    "\n",
    "mnts_df = spark.createDataFrame(mnts)\n",
    "cv_test_mount = mnts_df.filter(mnts_df.mountPoint.contains(\"hlscvproject\"))\n",
    "display(cv_test_mount)"
   ]
  },
  {
   "cell_type": "code",
   "execution_count": 0,
   "metadata": {
    "application/vnd.databricks.v1+cell": {
     "cellMetadata": {
      "byteLimit": 2048000,
      "rowLimit": 10000
     },
     "inputWidgets": {},
     "nuid": "8376dddd-6ed4-4174-bd3e-cf4adeec6a54",
     "showTitle": false,
     "tableResultSettingsMap": {},
     "title": ""
    }
   },
   "outputs": [],
   "source": [
    "display(dbutils.fs.ls(\"/mnt/hlscvproject\"))"
   ]
  },
  {
   "cell_type": "code",
   "execution_count": 0,
   "metadata": {
    "application/vnd.databricks.v1+cell": {
     "cellMetadata": {
      "byteLimit": 2048000,
      "rowLimit": 10000
     },
     "inputWidgets": {},
     "nuid": "d6c3af27-0db6-4e4c-b5b6-72a2fc89e695",
     "showTitle": true,
     "tableResultSettingsMap": {},
     "title": "using dbutils.fs.mkdirs"
    }
   },
   "outputs": [],
   "source": [
    "# Create the directory using dbutils.fs.mkdirs\n",
    "dbutils.fs.mkdirs(\"/mnt/hlscvproject/test_folder/\")"
   ]
  },
  {
   "cell_type": "code",
   "execution_count": 0,
   "metadata": {
    "application/vnd.databricks.v1+cell": {
     "cellMetadata": {
      "byteLimit": 2048000,
      "rowLimit": 10000
     },
     "inputWidgets": {},
     "nuid": "c8262a3b-13d2-48d8-a25d-820e69bf349d",
     "showTitle": false,
     "tableResultSettingsMap": {},
     "title": ""
    }
   },
   "outputs": [],
   "source": [
    "# !mkdir dbfs:/mnt/hlscvproject/test_folder/\n",
    "!cp /Workspace/Users/may.merkletan@databricks.com/db_CV/test_mmt.txt /dbfs/mnt/hlscvproject/test_folder/test_mmt.txt"
   ]
  },
  {
   "cell_type": "code",
   "execution_count": 0,
   "metadata": {
    "application/vnd.databricks.v1+cell": {
     "cellMetadata": {
      "byteLimit": 2048000,
      "rowLimit": 10000
     },
     "inputWidgets": {},
     "nuid": "290136e1-9c3f-4700-8bf8-a34383ddbbd8",
     "showTitle": true,
     "tableResultSettingsMap": {},
     "title": "using dbutils.fs.mkdirs"
    }
   },
   "outputs": [],
   "source": [
    "dbutils.fs.mkdirs(\"/mnt/hlscvproject/test_folder2/\")"
   ]
  },
  {
   "cell_type": "code",
   "execution_count": 0,
   "metadata": {
    "application/vnd.databricks.v1+cell": {
     "cellMetadata": {
      "byteLimit": 2048000,
      "rowLimit": 10000
     },
     "inputWidgets": {},
     "nuid": "dcd2549c-2171-43fa-af1a-baeefb20ff54",
     "showTitle": false,
     "tableResultSettingsMap": {},
     "title": ""
    }
   },
   "outputs": [],
   "source": [
    "display(dbutils.fs.ls(\"/mnt/hlscvproject\"))"
   ]
  },
  {
   "cell_type": "code",
   "execution_count": 0,
   "metadata": {
    "application/vnd.databricks.v1+cell": {
     "cellMetadata": {
      "byteLimit": 2048000,
      "rowLimit": 10000
     },
     "inputWidgets": {},
     "nuid": "8cdfa8c2-f553-4eb9-8230-7bd324346db8",
     "showTitle": false,
     "tableResultSettingsMap": {},
     "title": ""
    }
   },
   "outputs": [],
   "source": [
    "display(dbutils.fs.ls(\"/mnt/hlscvproject/test_folder/\"))"
   ]
  },
  {
   "cell_type": "code",
   "execution_count": 0,
   "metadata": {
    "application/vnd.databricks.v1+cell": {
     "cellMetadata": {
      "byteLimit": 2048000,
      "rowLimit": 10000
     },
     "inputWidgets": {},
     "nuid": "66f9cc57-1aec-4b72-a8b7-5c2a5d2f6d7b",
     "showTitle": true,
     "tableResultSettingsMap": {},
     "title": "classic compute"
    }
   },
   "outputs": [],
   "source": [
    "!ls -lah /dbfs/mnt/hlscvproject/test_folder/"
   ]
  },
  {
   "cell_type": "code",
   "execution_count": 0,
   "metadata": {
    "application/vnd.databricks.v1+cell": {
     "cellMetadata": {},
     "inputWidgets": {},
     "nuid": "0fd0ed36-0fc6-4ad8-9379-149754a45162",
     "showTitle": false,
     "tableResultSettingsMap": {},
     "title": ""
    }
   },
   "outputs": [],
   "source": []
  },
  {
   "cell_type": "code",
   "execution_count": 0,
   "metadata": {
    "application/vnd.databricks.v1+cell": {
     "cellMetadata": {},
     "inputWidgets": {},
     "nuid": "d9003ecb-6e2d-443f-9377-9c553b17988d",
     "showTitle": false,
     "tableResultSettingsMap": {},
     "title": ""
    }
   },
   "outputs": [],
   "source": [
    "### IAM assignment is required but disabled for external location credentials (Azure connector mmtdevs) on azure databricks \n",
    "\n",
    "## testing oneenv-adls as external location credential instead of mmtdevs  "
   ]
  },
  {
   "cell_type": "code",
   "execution_count": 0,
   "metadata": {
    "application/vnd.databricks.v1+cell": {
     "cellMetadata": {
      "byteLimit": 2048000,
      "rowLimit": 10000
     },
     "inputWidgets": {},
     "nuid": "04fd03a4-d6f1-472d-81b5-7ee1828ccbe8",
     "showTitle": false,
     "tableResultSettingsMap": {},
     "title": ""
    }
   },
   "outputs": [],
   "source": [
    "# Listing the contents of the target directory to verify the file copy\n",
    "display(dbutils.fs.ls(\"dbfs:/Volumes/mmt_mlops_demos/cv/cv-test\"))"
   ]
  },
  {
   "cell_type": "code",
   "execution_count": 0,
   "metadata": {
    "application/vnd.databricks.v1+cell": {
     "cellMetadata": {
      "byteLimit": 2048000,
      "rowLimit": 10000
     },
     "inputWidgets": {},
     "nuid": "cc65e4ae-570c-4899-ab1f-01f1ad878646",
     "showTitle": false,
     "tableResultSettingsMap": {},
     "title": ""
    }
   },
   "outputs": [],
   "source": [
    "# Copying the file using dbutils.fs.cp\n",
    "dbutils.fs.cp(\"/Workspace/Users/may.merkletan@databricks.com/db_CV/test.txt\", \n",
    "              \"/Volumes/mmt_mlops_demos/cv/cv-test/test.txt\")"
   ]
  },
  {
   "cell_type": "code",
   "execution_count": 0,
   "metadata": {
    "application/vnd.databricks.v1+cell": {
     "cellMetadata": {
      "byteLimit": 2048000,
      "rowLimit": 10000
     },
     "inputWidgets": {},
     "nuid": "2b8e911c-ad7c-4e50-9012-0cbfe4b45241",
     "showTitle": true,
     "tableResultSettingsMap": {},
     "title": "serverless has mount errors | cv-test with mmtdevs credentials"
    }
   },
   "outputs": [],
   "source": [
    "!ls -lah /Volumes/mmt_mlops_demos/cv/cv-test/\n",
    "\n",
    "# cp: cannot create regular file '/Volumes/mmt_mlops_demos/cv/cv-test/test.txt': Permission denied\n",
    "# cp: cannot create regular file '/Volumes/mmt_mlops_demos/cv/cv-test/test_folder2/test_mmt.txt': No such file or directory "
   ]
  },
  {
   "cell_type": "code",
   "execution_count": 0,
   "metadata": {
    "application/vnd.databricks.v1+cell": {
     "cellMetadata": {
      "byteLimit": 2048000,
      "rowLimit": 10000
     },
     "inputWidgets": {},
     "nuid": "e243d44d-84ba-455b-9133-b73c6325b882",
     "showTitle": false,
     "tableResultSettingsMap": {},
     "title": ""
    }
   },
   "outputs": [],
   "source": [
    "!ls -lah /Volumes/mmt_mlops_demos/cv/cv-test/"
   ]
  },
  {
   "cell_type": "code",
   "execution_count": 0,
   "metadata": {
    "application/vnd.databricks.v1+cell": {
     "cellMetadata": {},
     "inputWidgets": {},
     "nuid": "85b68bf0-0db6-40a5-bfad-6e4b6758e3d1",
     "showTitle": false,
     "tableResultSettingsMap": {},
     "title": ""
    }
   },
   "outputs": [],
   "source": []
  },
  {
   "cell_type": "code",
   "execution_count": 0,
   "metadata": {
    "application/vnd.databricks.v1+cell": {
     "cellMetadata": {},
     "inputWidgets": {},
     "nuid": "d88249df-5813-4ab2-ad08-03e50ba44425",
     "showTitle": true,
     "tableResultSettingsMap": {},
     "title": "test with oneenv-adls SP credential"
    }
   },
   "outputs": [],
   "source": [
    "### TEST with new container cv-test2 on mmtdevs storage account + oneenv-adls [Service Principal -- legacy?] credential (instead of ManagedID) in the field-eng-east workspace\n",
    "\n",
    "# https://adb-984752964297111.11.azuredatabricks.net/explore/credentials/oneenv-adls?o=984752964297111 \n",
    "# --> added cv-test2\n",
    "# https://adb-984752964297111.11.azuredatabricks.net/explore/locations/cv-test2?o=984752964297111\n",
    "\n",
    "# https://portal.azure.com/#view/Microsoft_AAD_IAM/ManagedAppMenuBlade/~/Overview/objectId/19dc1fa8-21bd-48d0-82e5-3f959870683e/appId/ed573937-9c53-4ed6-b016-929e765443eb\n",
    "\n",
    "\n",
    "\n",
    "### NB there is a oneenv-adls storage account but it is located in USWEST! which is not ideal for field-eng-east USEAST2 workspace\n",
    "# https://portal.azure.com/#@DataBricksInc.onmicrosoft.com/resource/subscriptions/3f2e4d32-8e8d-46d6-82bc-5bb8d962328b/resourceGroups/oneenv/providers/Microsoft.Storage/storageAccounts/oneenvadls/overview"
   ]
  },
  {
   "cell_type": "code",
   "execution_count": 0,
   "metadata": {
    "application/vnd.databricks.v1+cell": {
     "cellMetadata": {
      "byteLimit": 2048000,
      "rowLimit": 10000
     },
     "inputWidgets": {},
     "nuid": "dbb77754-e0c0-4128-b139-1dbb743d555d",
     "showTitle": true,
     "tableResultSettingsMap": {},
     "title": "test with oneenv-adls SP credential"
    }
   },
   "outputs": [],
   "source": [
    "!ls -lah /Volumes/mmt_mlops_demos/cv/cv-test2/"
   ]
  },
  {
   "cell_type": "code",
   "execution_count": 0,
   "metadata": {
    "application/vnd.databricks.v1+cell": {
     "cellMetadata": {
      "byteLimit": 2048000,
      "rowLimit": 10000
     },
     "inputWidgets": {},
     "nuid": "c3b13e09-eac1-46ef-9c4b-887acfac95bc",
     "showTitle": true,
     "tableResultSettingsMap": {},
     "title": "test with oneenv-adls SP credential"
    }
   },
   "outputs": [],
   "source": [
    "!cp /Workspace/Users/may.merkletan@databricks.com/db_CV/test_mmt.txt /Volumes/mmt_mlops_demos/cv/cv-test2/test_mmt.txt\n",
    "##WORKS?!"
   ]
  },
  {
   "cell_type": "code",
   "execution_count": 0,
   "metadata": {
    "application/vnd.databricks.v1+cell": {
     "cellMetadata": {
      "byteLimit": 2048000,
      "rowLimit": 10000
     },
     "inputWidgets": {},
     "nuid": "bef4c566-b14a-4fe1-b6f7-37824177b1b5",
     "showTitle": true,
     "tableResultSettingsMap": {},
     "title": "OMG!"
    }
   },
   "outputs": [],
   "source": [
    "!ls /Volumes/mmt_mlops_demos/cv/cv-test2/"
   ]
  },
  {
   "cell_type": "code",
   "execution_count": 0,
   "metadata": {
    "application/vnd.databricks.v1+cell": {
     "cellMetadata": {
      "byteLimit": 2048000,
      "rowLimit": 10000
     },
     "inputWidgets": {},
     "nuid": "f768f451-9ada-4230-bae6-ce524df1444f",
     "showTitle": false,
     "tableResultSettingsMap": {},
     "title": ""
    }
   },
   "outputs": [],
   "source": [
    "!ls -lah /Volumes/mmt_mlops_demos/cv/"
   ]
  },
  {
   "cell_type": "code",
   "execution_count": 0,
   "metadata": {
    "application/vnd.databricks.v1+cell": {
     "cellMetadata": {
      "byteLimit": 2048000,
      "rowLimit": 10000
     },
     "inputWidgets": {},
     "nuid": "b7bff560-6f63-49aa-8f36-23252b99def4",
     "showTitle": false,
     "tableResultSettingsMap": {},
     "title": ""
    }
   },
   "outputs": [],
   "source": [
    "!mkdir /Volumes/mmt_mlops_demos/cv/cv-test2/test_folder"
   ]
  },
  {
   "cell_type": "code",
   "execution_count": 0,
   "metadata": {
    "application/vnd.databricks.v1+cell": {
     "cellMetadata": {
      "byteLimit": 2048000,
      "rowLimit": 10000
     },
     "inputWidgets": {},
     "nuid": "a354678a-4ccc-4e92-ad99-a33feae50769",
     "showTitle": false,
     "tableResultSettingsMap": {},
     "title": ""
    }
   },
   "outputs": [],
   "source": [
    "!cp /Workspace/Users/may.merkletan@databricks.com/db_CV/test_mmt.txt /Volumes/mmt_mlops_demos/cv/cv-test2/test_folder/test2_mmt.txt"
   ]
  },
  {
   "cell_type": "code",
   "execution_count": 0,
   "metadata": {
    "application/vnd.databricks.v1+cell": {
     "cellMetadata": {
      "byteLimit": 2048000,
      "rowLimit": 10000
     },
     "inputWidgets": {},
     "nuid": "c1a53a07-31b4-43b2-b165-2f8bd4ec5318",
     "showTitle": false,
     "tableResultSettingsMap": {},
     "title": ""
    }
   },
   "outputs": [],
   "source": [
    "dbutils.fs.put(\"/Volumes/mmt_mlops_demos/cv/cv-test2/test_file.txt\", \"This is a test file.\")"
   ]
  },
  {
   "cell_type": "code",
   "execution_count": 0,
   "metadata": {
    "application/vnd.databricks.v1+cell": {
     "cellMetadata": {
      "byteLimit": 2048000,
      "rowLimit": 10000
     },
     "inputWidgets": {},
     "nuid": "6be18a87-b48b-4ab2-8ddc-46147a252eec",
     "showTitle": false,
     "tableResultSettingsMap": {},
     "title": ""
    }
   },
   "outputs": [],
   "source": [
    "dbutils.fs.ls(\"/Volumes/mmt_mlops_demos/cv/cv-test2/\")"
   ]
  },
  {
   "cell_type": "code",
   "execution_count": 0,
   "metadata": {
    "application/vnd.databricks.v1+cell": {
     "cellMetadata": {},
     "inputWidgets": {},
     "nuid": "33e9a5dd-94f8-4f68-8367-f1dd34a122ed",
     "showTitle": false,
     "tableResultSettingsMap": {},
     "title": ""
    }
   },
   "outputs": [],
   "source": []
  },
  {
   "cell_type": "code",
   "execution_count": 0,
   "metadata": {
    "application/vnd.databricks.v1+cell": {
     "cellMetadata": {},
     "inputWidgets": {},
     "nuid": "63264753-9411-4210-8485-505a2bb9fc25",
     "showTitle": false,
     "tableResultSettingsMap": {},
     "title": ""
    }
   },
   "outputs": [],
   "source": []
  },
  {
   "cell_type": "code",
   "execution_count": 0,
   "metadata": {
    "application/vnd.databricks.v1+cell": {
     "cellMetadata": {
      "byteLimit": 2048000,
      "rowLimit": 10000
     },
     "inputWidgets": {},
     "nuid": "87836586-3c57-40db-8a24-7c127fe66769",
     "showTitle": true,
     "tableResultSettingsMap": {},
     "title": "CREATE dbfs/mnt"
    }
   },
   "outputs": [],
   "source": [
    "mnts = dbutils.fs.mounts()\n",
    "display(mnts)"
   ]
  },
  {
   "cell_type": "code",
   "execution_count": 0,
   "metadata": {
    "application/vnd.databricks.v1+cell": {
     "cellMetadata": {
      "byteLimit": 2048000,
      "rowLimit": 10000
     },
     "inputWidgets": {},
     "nuid": "5542a5b9-abeb-4cc2-b78f-eec4b52d8c6f",
     "showTitle": true,
     "tableResultSettingsMap": {},
     "title": "check for intended mount pathname"
    }
   },
   "outputs": [],
   "source": [
    "mnts_df = spark.createDataFrame(mnts)\n",
    "cv_test_mount = mnts_df.filter(mnts_df.mountPoint.contains(\"hls_cv\"))\n",
    "display(cv_test_mount)"
   ]
  },
  {
   "cell_type": "code",
   "execution_count": 0,
   "metadata": {
    "application/vnd.databricks.v1+cell": {
     "cellMetadata": {
      "byteLimit": 2048000,
      "rowLimit": 10000
     },
     "inputWidgets": {},
     "nuid": "17167307-417a-4b21-8ce8-e35c79138bc6",
     "showTitle": false,
     "tableResultSettingsMap": {},
     "title": ""
    }
   },
   "outputs": [],
   "source": [
    "dbutils.secrets.list('mmt')"
   ]
  },
  {
   "cell_type": "code",
   "execution_count": 0,
   "metadata": {
    "application/vnd.databricks.v1+cell": {
     "cellMetadata": {
      "byteLimit": 2048000,
      "rowLimit": 10000
     },
     "inputWidgets": {},
     "nuid": "6301dc1d-921f-40de-9058-207640b15cb5",
     "showTitle": false,
     "tableResultSettingsMap": {},
     "title": ""
    }
   },
   "outputs": [],
   "source": [
    "dbutils.secrets.get('mmt','hls_cv_azSAS_mmtdevs_cv-test2')"
   ]
  },
  {
   "cell_type": "code",
   "execution_count": 0,
   "metadata": {
    "application/vnd.databricks.v1+cell": {
     "cellMetadata": {
      "byteLimit": 2048000,
      "rowLimit": 10000
     },
     "inputWidgets": {},
     "nuid": "64bfa029-8407-41d6-bec8-03e18749067e",
     "showTitle": false,
     "tableResultSettingsMap": {},
     "title": ""
    }
   },
   "outputs": [],
   "source": [
    "sas_token = dbutils.secrets.get('mmt','hls_cv_azSAS_mmtdevs_cv-test2')\n",
    "\n",
    "storage_account_name = \"mmtdevs\"\n",
    "container_name = \"cv-test2\"\n",
    "\n",
    "mount_name = \"hls_cv\"\n",
    "\n",
    "dbutils.fs.mount(\n",
    "    source = f\"wasbs://{container_name}@{storage_account_name}.blob.core.windows.net/\",\n",
    "    mount_point = f\"/mnt/{mount_name}\",\n",
    "    extra_configs = {f\"fs.azure.sas.{container_name}.{storage_account_name}.blob.core.windows.net\": sas_token}\n",
    ")"
   ]
  },
  {
   "cell_type": "code",
   "execution_count": 0,
   "metadata": {
    "application/vnd.databricks.v1+cell": {
     "cellMetadata": {
      "byteLimit": 2048000,
      "rowLimit": 10000
     },
     "inputWidgets": {},
     "nuid": "a0bae942-b909-4d92-b9e0-faea71deb9bf",
     "showTitle": true,
     "tableResultSettingsMap": {},
     "title": "/dbfs/mnt/hls_cv"
    }
   },
   "outputs": [],
   "source": [
    "mnts = dbutils.fs.mounts()\n",
    "\n",
    "mnts_df = spark.createDataFrame(mnts)\n",
    "cv_test_mount = mnts_df.filter(mnts_df.mountPoint.contains(\"hls_cv\"))\n",
    "display(cv_test_mount)"
   ]
  },
  {
   "cell_type": "code",
   "execution_count": 0,
   "metadata": {
    "application/vnd.databricks.v1+cell": {
     "cellMetadata": {
      "byteLimit": 2048000,
      "rowLimit": 10000
     },
     "inputWidgets": {},
     "nuid": "47207ad2-08c3-4533-b65e-be20c0bad9a9",
     "showTitle": false,
     "tableResultSettingsMap": {},
     "title": ""
    }
   },
   "outputs": [],
   "source": [
    "display(dbutils.fs.ls(\"/mnt/hls_cv/\"))"
   ]
  },
  {
   "cell_type": "code",
   "execution_count": 0,
   "metadata": {
    "application/vnd.databricks.v1+cell": {
     "cellMetadata": {
      "byteLimit": 2048000,
      "rowLimit": 10000
     },
     "inputWidgets": {},
     "nuid": "5a86c971-9598-4549-a6f8-34ec4b24f9e6",
     "showTitle": false,
     "tableResultSettingsMap": {},
     "title": ""
    }
   },
   "outputs": [],
   "source": [
    "# dbutils.fs.rm(\"/dbfs/mnt/hls_cv/test_put_str2dbfs_mnt.txt\", True)"
   ]
  },
  {
   "cell_type": "code",
   "execution_count": 0,
   "metadata": {
    "application/vnd.databricks.v1+cell": {
     "cellMetadata": {
      "byteLimit": 2048000,
      "rowLimit": 10000
     },
     "inputWidgets": {},
     "nuid": "9b72ea7f-2325-4921-8a46-3d35a44daa43",
     "showTitle": false,
     "tableResultSettingsMap": {},
     "title": ""
    }
   },
   "outputs": [],
   "source": [
    "dbutils.fs.put(\"dbfs:/mnt/hls_cv/test_put_str2dbfs_mnt.txt\", \"This is a test file.\")"
   ]
  },
  {
   "cell_type": "code",
   "execution_count": 0,
   "metadata": {
    "application/vnd.databricks.v1+cell": {
     "cellMetadata": {
      "byteLimit": 2048000,
      "rowLimit": 10000
     },
     "inputWidgets": {},
     "nuid": "c6b35949-fa92-45f5-b655-c4a7b81f3135",
     "showTitle": false,
     "tableResultSettingsMap": {},
     "title": ""
    }
   },
   "outputs": [],
   "source": [
    "display(dbutils.fs.ls(\"dbfs:/mnt/hls_cv/\"))"
   ]
  },
  {
   "cell_type": "code",
   "execution_count": 0,
   "metadata": {
    "application/vnd.databricks.v1+cell": {
     "cellMetadata": {
      "byteLimit": 2048000,
      "rowLimit": 10000
     },
     "inputWidgets": {},
     "nuid": "64061dcf-3b01-4c73-b69a-8746046a9a06",
     "showTitle": false,
     "tableResultSettingsMap": {},
     "title": ""
    }
   },
   "outputs": [],
   "source": [
    "!cat /dbfs/mnt/hls_cv/test_put_str2dbfs_mnt.txt"
   ]
  },
  {
   "cell_type": "code",
   "execution_count": 0,
   "metadata": {
    "application/vnd.databricks.v1+cell": {
     "cellMetadata": {},
     "inputWidgets": {},
     "nuid": "56dba02f-083e-4604-be9a-5e03a6dceb30",
     "showTitle": false,
     "tableResultSettingsMap": {},
     "title": ""
    }
   },
   "outputs": [],
   "source": []
  },
  {
   "cell_type": "code",
   "execution_count": 0,
   "metadata": {
    "application/vnd.databricks.v1+cell": {
     "cellMetadata": {},
     "inputWidgets": {},
     "nuid": "ec032cb5-a554-426c-bc38-e4bb539a3c98",
     "showTitle": false,
     "tableResultSettingsMap": {},
     "title": ""
    }
   },
   "outputs": [],
   "source": []
  },
  {
   "cell_type": "code",
   "execution_count": 0,
   "metadata": {
    "application/vnd.databricks.v1+cell": {
     "cellMetadata": {},
     "inputWidgets": {},
     "nuid": "9f0d0df9-abb4-4c14-b6b3-44155c11c4b1",
     "showTitle": false,
     "tableResultSettingsMap": {},
     "title": ""
    }
   },
   "outputs": [],
   "source": [
    "# configs = {\n",
    "#     \"fs.azure.account.auth.type\": \"OAuth\",\n",
    "#     \"fs.azure.account.oauth.provider.type\": \"org.apache.hadoop.fs.azurebfs.oauth2.ClientCredsTokenProvider\",\n",
    "#     \"fs.azure.account.oauth2.client.id\": \"<application-id>\",\n",
    "#     \"fs.azure.account.oauth2.client.secret\": dbutils.secrets.get(scope=\"<scope-name>\", key=\"<service-credential-key-name>\"),\n",
    "#     \"fs.azure.account.oauth2.client.endpoint\": \"https://login.microsoftonline.com/<directory-id>/oauth2/token\"\n",
    "# }\n",
    "\n",
    "# dbutils.fs.mount(\n",
    "#     source = \"abfss://<container-name>@<storage-account-name>.dfs.core.windows.net/\",\n",
    "#     mount_point = \"/mnt/<mount-name>\",\n",
    "#     extra_configs = configs\n",
    "# )"
   ]
  }
 ],
 "metadata": {
  "application/vnd.databricks.v1+notebook": {
   "computePreferences": null,
   "dashboards": [],
   "environmentMetadata": {
    "base_environment": "",
    "environment_version": "2"
   },
   "language": "python",
   "notebookMetadata": {
    "pythonIndentUnit": 2
   },
   "notebookName": "setup_ExternalLocation_UCVols_dbfsmnt__test",
   "widgets": {}
  },
  "language_info": {
   "name": "python"
  }
 },
 "nbformat": 4,
 "nbformat_minor": 0
}
