{
 "cells": [
  {
   "cell_type": "markdown",
   "metadata": {
    "application/vnd.databricks.v1+cell": {
     "cellMetadata": {},
     "inputWidgets": {},
     "nuid": "6e20ea47-567f-47d1-a0fa-9469bee2ad73",
     "showTitle": false,
     "tableResultSettingsMap": {},
     "title": ""
    }
   },
   "source": [
    "# MedCellTypes - YOLO Real-Time Inference"
   ]
  },
  {
   "cell_type": "markdown",
   "metadata": {
    "application/vnd.databricks.v1+cell": {
     "cellMetadata": {},
     "inputWidgets": {},
     "nuid": "64b5af64-82b8-4493-97ae-40a2ca7d4d14",
     "showTitle": false,
     "tableResultSettingsMap": {},
     "title": ""
    }
   },
   "source": [
    "**Ref:**\n",
    "1. https://docs.ultralytics.com/modes/predict/#inference-sources"
   ]
  },
  {
   "cell_type": "code",
   "execution_count": 0,
   "metadata": {
    "application/vnd.databricks.v1+cell": {
     "cellMetadata": {},
     "inputWidgets": {},
     "nuid": "18e7708c-2fc5-4320-a680-2c0e063298ad",
     "showTitle": false,
     "tableResultSettingsMap": {},
     "title": ""
    }
   },
   "outputs": [],
   "source": [
    "data = {\n",
    "  \"inputs\" : [\"Hello, I'm a language model,\"],\n",
    "  \"params\" : {\"max_new_tokens\": 10, \"temperature\": 1}\n",
    "}\n",
    "\n",
    "headers = {\"Context-Type\": \"text/json\", \"Authorization\": f\"Bearer {API_TOKEN}\"}\n",
    "\n",
    "response = requests.post(\n",
    "    url=f\"{API_ROOT}/serving-endpoints/{endpoint_name}/invocations\", json=data, headers=headers\n",
    ")\n",
    "\n",
    "print(json.dumps(response.json()))"
   ]
  },
  {
   "cell_type": "code",
   "execution_count": 0,
   "metadata": {
    "application/vnd.databricks.v1+cell": {
     "cellMetadata": {
      "byteLimit": 2048000,
      "rowLimit": 10000
     },
     "inputWidgets": {},
     "nuid": "b514ff66-e51b-48f1-81e2-a0705aacd2fd",
     "showTitle": true,
     "tableResultSettingsMap": {},
     "title": "install packages"
    }
   },
   "outputs": [],
   "source": [
    "%pip install -U ultralytics==8.3.40 opencv-python==4.10.0.84 ray==2.39.0\n",
    "# %pip install -U opencv-python==4.10.0.84 ray==2.39.0 git+https://github.com/BlitzBricksterYY-db/ultralytics.git@main\n",
    "dbutils.library.restartPython()"
   ]
  },
  {
   "cell_type": "markdown",
   "metadata": {
    "application/vnd.databricks.v1+cell": {
     "cellMetadata": {},
     "inputWidgets": {},
     "nuid": "d7cf63e5-0d59-43ad-a8ad-198618657697",
     "showTitle": false,
     "tableResultSettingsMap": {},
     "title": ""
    }
   },
   "source": [
    "## Real-Time Inference (With Model Serving)"
   ]
  },
  {
   "cell_type": "markdown",
   "metadata": {
    "application/vnd.databricks.v1+cell": {
     "cellMetadata": {},
     "inputWidgets": {},
     "nuid": "57a94578-3a85-4f47-ac65-a908eb3022d7",
     "showTitle": false,
     "tableResultSettingsMap": {},
     "title": ""
    }
   },
   "source": [
    "**Ref**\n",
    "1. [Serve on Google Vertex AI blog](https://datatonic.com/insights/deploying-image-segmentation-models-vertex-ai/)"
   ]
  },
  {
   "cell_type": "code",
   "execution_count": 0,
   "metadata": {
    "application/vnd.databricks.v1+cell": {
     "cellMetadata": {},
     "inputWidgets": {},
     "nuid": "bd845a95-702c-47d1-8ad9-decadbf86c27",
     "showTitle": false,
     "tableResultSettingsMap": {},
     "title": ""
    }
   },
   "outputs": [],
   "source": [
    "from ultralytics import YOLO\n",
    "import torch\n",
    "import mlflow\n",
    "import torch.distributed as dist\n",
    "from ultralytics import settings\n",
    "from mlflow.types.schema import Schema, ColSpec\n",
    "from mlflow.models.signature import ModelSignature\n",
    "\n",
    "input_schema = Schema(\n",
    "    [\n",
    "        ColSpec(\"string\", \"image_source\"),\n",
    "    ]\n",
    ")\n",
    "output_schema = Schema([ColSpec(\"string\",\"class_name\"),\n",
    "                        ColSpec(\"integer\",\"class_num\"),\n",
    "                        ColSpec(\"double\",\"confidence\")]\n",
    "                       )\n",
    "\n",
    "signature = ModelSignature(inputs=input_schema, \n",
    "                           outputs=output_schema)\n",
    "\n",
    "# settings.update({\"mlflow\":False}) # Specifically, it disables the integration with MLflow. By setting the mlflow key to False, you are instructing the ultralytics library not to use MLflow for logging or tracking experiments.\n",
    "\n",
    "mlflow.end_run()"
   ]
  },
  {
   "cell_type": "code",
   "execution_count": 0,
   "metadata": {
    "application/vnd.databricks.v1+cell": {
     "cellMetadata": {},
     "inputWidgets": {},
     "nuid": "7da22a1e-2f9c-491f-b30a-b4e9108a22d9",
     "showTitle": true,
     "tableResultSettingsMap": {},
     "title": "new version added .predict"
    }
   },
   "outputs": [],
   "source": [
    "############################################################################\n",
    "## Create YOLOC class to capture model results d a predict() method ##\n",
    "############################################################################\n",
    "\n",
    "class YOLOC(mlflow.pyfunc.PythonModel):\n",
    "  def __init__(self, point_file):\n",
    "    self.point_file=point_file\n",
    "\n",
    "  def load_context(self, context):\n",
    "    from ultralytics import YOLO\n",
    "    self.model = YOLO(context.artifacts['best_point'])\n",
    "\n",
    "  def predict(self, context, model_input):\n",
    "    # ref: https://docs.ultralytics.com/modes/predict/\n",
    "    return self.model(model_input)\n",
    "  \n",
    "\n",
    "#: use model() vs model.predict()\n",
    "# The model.predict() method in YOLO supports various arguments such as conf, iou, imgsz, device, and more. These arguments allow you to customize the inference process, setting parameters like confidence thresholds, image size, and the device used for computation. Detailed descriptions of these arguments can be found in the inference arguments section."
   ]
  },
  {
   "cell_type": "code",
   "execution_count": 0,
   "metadata": {
    "application/vnd.databricks.v1+cell": {
     "cellMetadata": {},
     "inputWidgets": {},
     "nuid": "08746ddc-2b32-4318-a884-6e2f216e7fb8",
     "showTitle": false,
     "tableResultSettingsMap": {},
     "title": ""
    }
   },
   "outputs": [],
   "source": []
  },
  {
   "cell_type": "code",
   "execution_count": 0,
   "metadata": {
    "application/vnd.databricks.v1+cell": {
     "cellMetadata": {
      "byteLimit": 2048000,
      "rowLimit": 10000
     },
     "inputWidgets": {},
     "nuid": "75f0092f-b1e0-4697-8248-b547d1cea4e3",
     "showTitle": false,
     "tableResultSettingsMap": {},
     "title": ""
    }
   },
   "outputs": [],
   "source": [
    "# load model back\n",
    "import mlflow\n",
    "import ultralytics\n",
    "from ultralytics import YOLO\n",
    "\n",
    "model_uri = 'runs:/7d7584ec603e4994b746582c64ca76aa/model' # this is pytorch flavour model\n",
    "# Replace INPUT_EXAMPLE with your own input example to the model\n",
    "# A valid input example is a data instance suitable for pyfunc prediction\n",
    "test_path = \"/Volumes/mmt_mlops_demos/cv/data/Nuclei_Instance_Dataset/yolo_dataset/val/images/\"\n",
    "input_data = [test_path + f for f in [\"human_liver_39.png\", \"human_melanoma_05.png\", \"mouse_liver_35.png\", \"mouse_spleen_02.png\"]]\n",
    "print(\"We will inference on the following images:\", input_data)\n",
    "model = mlflow.pytorch.load_model(model_uri) # for pytorch flavour model, load using mlflow.pytorch\n",
    "# results = model(input_data, stream=False) # enable stream produces a generator instead of a list. a List consumes more memory.\n",
    "\n",
    "# #: (Don't Run this cell, it will fail). The below is not working for image data as 'input_data,' as it Failed to deserialize input string data to JSON. \n",
    "# # Verify the model with the provided input data using the logged dependencies.\n",
    "# # For more details, refer to:\n",
    "# # https://mlflow.org/docs/latest/models.html#validate-models-before-deployment\n",
    "# mlflow.models.predict(\n",
    "#     model_uri=model_uri,\n",
    "#     input_data=input_data,\n",
    "#     env_manager=\"uv\",\n",
    "# )"
   ]
  },
  {
   "cell_type": "code",
   "execution_count": 0,
   "metadata": {
    "application/vnd.databricks.v1+cell": {
     "cellMetadata": {
      "byteLimit": 2048000,
      "rowLimit": 10000
     },
     "inputWidgets": {},
     "nuid": "90a6fe19-34e4-4fec-9c5a-0f86becbe48d",
     "showTitle": false,
     "tableResultSettingsMap": {},
     "title": ""
    }
   },
   "outputs": [],
   "source": [
    "model()"
   ]
  },
  {
   "cell_type": "code",
   "execution_count": 0,
   "metadata": {
    "application/vnd.databricks.v1+cell": {
     "cellMetadata": {},
     "inputWidgets": {},
     "nuid": "6b330ac0-88cb-4607-864a-768ef68748f1",
     "showTitle": false,
     "tableResultSettingsMap": {},
     "title": ""
    }
   },
   "outputs": [],
   "source": []
  },
  {
   "cell_type": "code",
   "execution_count": 0,
   "metadata": {
    "application/vnd.databricks.v1+cell": {
     "cellMetadata": {
      "byteLimit": 2048000,
      "rowLimit": 10000
     },
     "inputWidgets": {},
     "nuid": "c5e0c0fb-8965-4444-81fa-dd73047c6fdb",
     "showTitle": false,
     "tableResultSettingsMap": {},
     "title": ""
    }
   },
   "outputs": [],
   "source": [
    "with mlflow.start_run() as run:\n",
    "  mlflow.pytorch.log_model(YOLO(str(model.trainer.best)), \"model\") # this succeeded\n"
   ]
  },
  {
   "cell_type": "code",
   "execution_count": 0,
   "metadata": {
    "application/vnd.databricks.v1+cell": {
     "cellMetadata": {
      "byteLimit": 2048000,
      "rowLimit": 10000
     },
     "inputWidgets": {},
     "nuid": "8a25c905-7426-40ac-b330-cd33663edecf",
     "showTitle": false,
     "tableResultSettingsMap": {},
     "title": ""
    }
   },
   "outputs": [],
   "source": [
    "YOLO(\"runs:/4a8cef6f866d414096370c4282dbf55f/artifacts/model/artifacts/best.pt\")"
   ]
  },
  {
   "cell_type": "code",
   "execution_count": 0,
   "metadata": {
    "application/vnd.databricks.v1+cell": {
     "cellMetadata": {
      "byteLimit": 2048000,
      "rowLimit": 10000
     },
     "inputWidgets": {},
     "nuid": "acba3c71-35e4-4046-b66f-f69b829c8d87",
     "showTitle": false,
     "tableResultSettingsMap": {},
     "title": ""
    }
   },
   "outputs": [],
   "source": [
    "import mlflow.pyfunc\n",
    "from PIL import Image\n",
    "import torch\n",
    "\n",
    "class YOLOPyFuncWrapper(mlflow.pyfunc.PythonModel):\n",
    "    def load_context(self, context):\n",
    "        self.model = torch.load(context.artifacts[\"model\"])\n",
    "\n",
    "    def predict(self, context, model_input):\n",
    "        if isinstance(model_input, list):\n",
    "            input_data = [Image.open(img) if isinstance(img, str) else img for img in model_input]\n",
    "        else:\n",
    "            input_data = [Image.open(model_input) if isinstance(model_input, str) else model_input]\n",
    "        results = self.model(input_data, stream=False)\n",
    "        return results\n",
    "    \n",
    "model_uri = 'runs:/7d7584ec603e4994b746582c64ca76aa/model'\n",
    "with mlflow.start_run() as run:    \n",
    "    # Save the model\n",
    "    model_path = \"yolo_pyfunc_model\"\n",
    "    mlflow.pyfunc.log_model(\n",
    "        path=model_path,\n",
    "        python_model=YOLOPyFuncWrapper(),\n",
    "        artifacts={\"model\": model_uri}\n",
    "    )\n",
    "\n",
    "# # Load the model\n",
    "# loaded_model = mlflow.pyfunc.load_model(model_path)\n",
    "\n",
    "# # Predict using the model\n",
    "# results = loaded_model.predict(input_data)"
   ]
  },
  {
   "cell_type": "code",
   "execution_count": 0,
   "metadata": {
    "application/vnd.databricks.v1+cell": {
     "cellMetadata": {
      "byteLimit": 2048000,
      "rowLimit": 10000
     },
     "inputWidgets": {},
     "nuid": "612261e9-7205-4284-a512-e508d2c81a35",
     "showTitle": false,
     "tableResultSettingsMap": {},
     "title": ""
    }
   },
   "outputs": [],
   "source": [
    "in_data = input_data[0]"
   ]
  },
  {
   "cell_type": "code",
   "execution_count": 0,
   "metadata": {
    "application/vnd.databricks.v1+cell": {
     "cellMetadata": {
      "byteLimit": 2048000,
      "rowLimit": 10000
     },
     "inputWidgets": {},
     "nuid": "fa3ddc8e-7caa-4b18-baa0-4e3a19d8108f",
     "showTitle": false,
     "tableResultSettingsMap": {},
     "title": ""
    }
   },
   "outputs": [],
   "source": [
    "in_data = Image.open(input_data[0])\n",
    "import numpy as np\n",
    "\n",
    "in_data_array = np.array(in_data)"
   ]
  },
  {
   "cell_type": "code",
   "execution_count": 0,
   "metadata": {
    "application/vnd.databricks.v1+cell": {
     "cellMetadata": {
      "byteLimit": 2048000,
      "rowLimit": 10000
     },
     "inputWidgets": {},
     "nuid": "659ed5b6-3529-435f-9c8f-eb9cae140625",
     "showTitle": false,
     "tableResultSettingsMap": {},
     "title": ""
    }
   },
   "outputs": [],
   "source": [
    "in_data_array"
   ]
  },
  {
   "cell_type": "code",
   "execution_count": 0,
   "metadata": {
    "application/vnd.databricks.v1+cell": {
     "cellMetadata": {
      "byteLimit": 2048000,
      "rowLimit": 10000
     },
     "inputWidgets": {},
     "nuid": "f016bae7-48af-4d4a-bb43-3fcfd29749f4",
     "showTitle": false,
     "tableResultSettingsMap": {},
     "title": ""
    }
   },
   "outputs": [],
   "source": [
    "model_uri = 'runs:/bdc5d9bc5c04443b97109032d36b4ed8/yolo_pyfunc_model' # logged pytorch model\n",
    "\n",
    "\n",
    "\n",
    "# Verify the model with the provided input data using the logged dependencies.\n",
    "# For more details, refer to:\n",
    "# https://mlflow.org/docs/latest/models.html#validate-models-before-deployment\n",
    "mlflow.models.predict(\n",
    "    model_uri=model_uri,\n",
    "    input_data=in_data_array\n",
    ")"
   ]
  },
  {
   "cell_type": "code",
   "execution_count": 0,
   "metadata": {
    "application/vnd.databricks.v1+cell": {
     "cellMetadata": {
      "byteLimit": 2048000,
      "rowLimit": 10000
     },
     "inputWidgets": {},
     "nuid": "11b8972a-cc6a-4aca-9b17-eb0af8540de2",
     "showTitle": false,
     "tableResultSettingsMap": {},
     "title": ""
    }
   },
   "outputs": [],
   "source": [
    "input_data"
   ]
  },
  {
   "cell_type": "code",
   "execution_count": 0,
   "metadata": {
    "application/vnd.databricks.v1+cell": {
     "cellMetadata": {
      "byteLimit": 2048000,
      "rowLimit": 10000
     },
     "inputWidgets": {},
     "nuid": "c9b941ed-97a8-40ec-bea0-014c35c0fc8c",
     "showTitle": false,
     "tableResultSettingsMap": {},
     "title": ""
    }
   },
   "outputs": [],
   "source": [
    "import mlflow\n",
    "import numpy as np\n",
    "\n",
    "model_uri = 'runs:/4a8cef6f866d414096370c4282dbf55f/model' # logged pyfunc model\n",
    "model_uri = 'runs:/7d7584ec603e4994b746582c64ca76aa/model' # logged pytorch model\n",
    "\n",
    "\n",
    "# Replace INPUT_EXAMPLE with your own input example to the model\n",
    "# A valid input example is a data instance suitable for pyfunc prediction\n",
    "input_data = np.random.rand(1, 3, 224, 224)  # Example input data, replace with your own\n",
    "indata = {'image_source': input_data.tolist()}  # Convert numpy array to list for JSON serialization\n",
    "print(indata)\n",
    "\n",
    "\n",
    "# Verify the model with the provided input data using the logged dependencies.\n",
    "# For more details, refer to:\n",
    "# https://mlflow.org/docs/latest/models.html#validate-models-before-deployment\n",
    "mlflow.models.predict(\n",
    "    model_uri=model_uri,\n",
    "    input_data=indata\n",
    ")"
   ]
  },
  {
   "cell_type": "code",
   "execution_count": 0,
   "metadata": {
    "application/vnd.databricks.v1+cell": {
     "cellMetadata": {
      "byteLimit": 2048000,
      "rowLimit": 10000
     },
     "inputWidgets": {},
     "nuid": "4f39f6e5-24fc-44dd-963a-8833420e2815",
     "showTitle": false,
     "tableResultSettingsMap": {},
     "title": ""
    }
   },
   "outputs": [],
   "source": [
    "import mlflow\n",
    "\n",
    "model_uri = 'runs:/4a8cef6f866d414096370c4282dbf55f/model' # logged pyfunc model\n",
    "# model_uri = 'runs:/7d7584ec603e4994b746582c64ca76aa/model' # logged pytorch model\n",
    "\n",
    "\n",
    "# Replace INPUT_EXAMPLE with your own input example to the model\n",
    "# A valid input example is a data instance suitable for pyfunc prediction\n",
    "input_data\n",
    "in_data = \n",
    "# Verify the model with the provided input data using the logged dependencies.\n",
    "# For more details, refer to:\n",
    "# https://mlflow.org/docs/latest/models.html#validate-models-before-deployment\n",
    "mlflow.models.predict(\n",
    "    model_uri=model_uri,\n",
    "    input_data=input_data\n",
    ")"
   ]
  },
  {
   "cell_type": "code",
   "execution_count": 0,
   "metadata": {
    "application/vnd.databricks.v1+cell": {
     "cellMetadata": {},
     "inputWidgets": {},
     "nuid": "e02ae1b0-6728-455c-8bf5-3e4c338ec544",
     "showTitle": false,
     "tableResultSettingsMap": {},
     "title": ""
    }
   },
   "outputs": [],
   "source": [
    "os.environ['DATABRICKS_TOKEN'] = db_token = dbutils.secrets.get(scope=\"yyang_secret_scope\", key=\"pat\")"
   ]
  },
  {
   "cell_type": "code",
   "execution_count": 0,
   "metadata": {
    "application/vnd.databricks.v1+cell": {
     "cellMetadata": {},
     "inputWidgets": {},
     "nuid": "4fb3b4c0-176b-4e7a-8450-3208dda9b9ad",
     "showTitle": true,
     "tableResultSettingsMap": {},
     "title": "from serving endpoint 'USE' python template"
    }
   },
   "outputs": [],
   "source": [
    "# import os\n",
    "# import requests\n",
    "# import numpy as np\n",
    "# import pandas as pd\n",
    "# import json\n",
    "\n",
    "# def create_tf_serving_json(data):\n",
    "#     return {'inputs': {name: data[name].tolist() for name in data.keys()} if isinstance(data, dict) else data.tolist()}\n",
    "\n",
    "# def score_model(dataset):\n",
    "#     url = 'https://adb-984752964297111.11.azuredatabricks.net/serving-endpoints/cell-instance-segmentation/invocations'\n",
    "#     headers = {'Authorization': f'Bearer {os.environ.get(\"DATABRICKS_TOKEN\")}', 'Content-Type': 'application/json'}\n",
    "#     ds_dict = {'dataframe_split': dataset.to_dict(orient='split')} if isinstance(dataset, pd.DataFrame) else create_tf_serving_json(dataset)\n",
    "#     data_json = json.dumps(ds_dict, allow_nan=True)\n",
    "#     response = requests.request(method='POST', headers=headers, url=url, data=data_json)\n",
    "#     if response.status_code != 200:\n",
    "#         raise Exception(f'Request failed with status {response.status_code}, {response.text}')\n",
    "#     return response.json()"
   ]
  },
  {
   "cell_type": "code",
   "execution_count": 0,
   "metadata": {
    "application/vnd.databricks.v1+cell": {
     "cellMetadata": {},
     "inputWidgets": {},
     "nuid": "a512e65f-5a79-4faa-9809-11b345f103c4",
     "showTitle": false,
     "tableResultSettingsMap": {},
     "title": ""
    }
   },
   "outputs": [],
   "source": [
    "input_data"
   ]
  },
  {
   "cell_type": "code",
   "execution_count": 0,
   "metadata": {
    "application/vnd.databricks.v1+cell": {
     "cellMetadata": {},
     "inputWidgets": {},
     "nuid": "a48aa00e-3b5c-4aea-aa98-917e374ba94b",
     "showTitle": false,
     "tableResultSettingsMap": {},
     "title": ""
    }
   },
   "outputs": [],
   "source": [
    "import numpy as np\n",
    "import json\n",
    "import cv2\n",
    "\n",
    "def convert_image_to_array(img_loc):\n",
    "  img = cv2.imread(img_loc)\n",
    "  img_rgb = cv2.cvtColor(img, cv2.COLOR_BGR2RGB)\n",
    "  return img_rgb\n",
    "\n",
    "# Convert each input_data to a numpy array\n",
    "numpy_arrays = [convert_image_to_array(f) for f in input_data]\n",
    "\n",
    "\n",
    "import json\n",
    "\n",
    "# Convert numpy arrays to JSON\n",
    "json_data = json.dumps([array.tolist() for array in numpy_arrays])\n",
    "\n",
    "display(json_data)\n"
   ]
  },
  {
   "cell_type": "code",
   "execution_count": 0,
   "metadata": {
    "application/vnd.databricks.v1+cell": {
     "cellMetadata": {},
     "inputWidgets": {},
     "nuid": "8e32ae98-2ccb-40b3-8cfe-05b1be245a2a",
     "showTitle": false,
     "tableResultSettingsMap": {},
     "title": ""
    }
   },
   "outputs": [],
   "source": [
    "url = 'https://adb-984752964297111.11.azuredatabricks.net/serving-endpoints/cell-instance-segmentation/invocations'\n",
    "headers = {'Authorization': f'Bearer {os.environ.get(\"DATABRICKS_TOKEN\")}', 'Content-Type': 'application/json'}\n",
    "print(headers)"
   ]
  },
  {
   "cell_type": "code",
   "execution_count": 0,
   "metadata": {
    "application/vnd.databricks.v1+cell": {
     "cellMetadata": {},
     "inputWidgets": {},
     "nuid": "53cf8060-b5dd-4034-9f45-2ba55ccbd7b0",
     "showTitle": false,
     "tableResultSettingsMap": {},
     "title": ""
    },
    "jupyter": {
     "outputs_hidden": true
    }
   },
   "outputs": [],
   "source": [
    "requests.request(method='POST', headers=headers, url=url, data=json_data, verify=True)"
   ]
  }
 ],
 "metadata": {
  "application/vnd.databricks.v1+notebook": {
   "computePreferences": null,
   "dashboards": [],
   "environmentMetadata": {
    "base_environment": "",
    "environment_version": "2"
   },
   "language": "python",
   "notebookMetadata": {
    "pythonIndentUnit": 2
   },
   "notebookName": "MedCellTypes - YOLO Real-Time Inference",
   "widgets": {}
  },
  "language_info": {
   "name": "python"
  }
 },
 "nbformat": 4,
 "nbformat_minor": 0
}
