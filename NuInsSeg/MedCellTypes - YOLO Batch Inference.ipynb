{
 "cells": [
  {
   "cell_type": "markdown",
   "metadata": {
    "application/vnd.databricks.v1+cell": {
     "cellMetadata": {},
     "inputWidgets": {},
     "nuid": "471dddcc-66b2-4095-a8b8-57a3c72e8459",
     "showTitle": false,
     "tableResultSettingsMap": {},
     "title": ""
    }
   },
   "source": [
    "# MedCellTypes - YOLO Batch Inference"
   ]
  },
  {
   "cell_type": "markdown",
   "metadata": {
    "application/vnd.databricks.v1+cell": {
     "cellMetadata": {},
     "inputWidgets": {},
     "nuid": "f200ff38-5251-4ee5-b9e4-08e90bb8c99c",
     "showTitle": false,
     "tableResultSettingsMap": {},
     "title": ""
    }
   },
   "source": [
    "## Batch Inference (Without Model Serving)"
   ]
  },
  {
   "cell_type": "code",
   "execution_count": 0,
   "metadata": {
    "application/vnd.databricks.v1+cell": {
     "cellMetadata": {
      "byteLimit": 2048000,
      "rowLimit": 10000
     },
     "inputWidgets": {},
     "nuid": "914ea1d6-6b96-42e9-9a31-f13f2c6d9eac",
     "showTitle": true,
     "tableResultSettingsMap": {},
     "title": "install packages"
    }
   },
   "outputs": [],
   "source": [
    "%pip install -U ultralytics==8.3.40 opencv-python==4.10.0.84 ray==2.39.0\n",
    "# %pip install -U opencv-python==4.10.0.84 ray==2.39.0 git+https://github.com/BlitzBricksterYY-db/ultralytics.git@main\n",
    "dbutils.library.restartPython()"
   ]
  },
  {
   "cell_type": "markdown",
   "metadata": {
    "application/vnd.databricks.v1+cell": {
     "cellMetadata": {},
     "inputWidgets": {},
     "nuid": "668a3a36-4135-4c74-91e2-ade61f2b18a2",
     "showTitle": false,
     "tableResultSettingsMap": {},
     "title": ""
    }
   },
   "source": [
    "## Both model flavour A and B will work\n",
    "1. A. Pytorch flavour model logging and loading\n",
    "2. B. Pyfunc custom wrapper model logging and loading"
   ]
  },
  {
   "cell_type": "code",
   "execution_count": 0,
   "metadata": {
    "application/vnd.databricks.v1+cell": {
     "cellMetadata": {
      "byteLimit": 2048000,
      "rowLimit": 10000
     },
     "inputWidgets": {},
     "nuid": "ac668491-de95-40a8-9c14-b4865d0dc33b",
     "showTitle": true,
     "tableResultSettingsMap": {},
     "title": "A. Pytorch flavour model load"
    }
   },
   "outputs": [],
   "source": [
    "# load model back\n",
    "import mlflow\n",
    "import ultralytics\n",
    "\n",
    "model_uri = 'runs:/7d7584ec603e4994b746582c64ca76aa/model' # this is pytorch flavour model\n",
    "# Replace INPUT_EXAMPLE with your own input example to the model\n",
    "# A valid input example is a data instance suitable for pyfunc prediction\n",
    "test_path = \"/Volumes/mmt_mlops_demos/cv/data/Nuclei_Instance_Dataset/yolo_dataset/val/images/\"\n",
    "input_data = [test_path + f for f in [\"human_liver_39.png\", \"human_melanoma_05.png\", \"mouse_liver_35.png\", \"mouse_spleen_02.png\"]]\n",
    "print(\"We will inference on the following images:\", input_data)\n",
    "model = mlflow.pytorch.load_model(model_uri) # for pytorch flavour model, load using mlflow.pytorch\n",
    "results = model(input_data, stream=False) # enable stream produces a generator instead of a list. a List consumes more memory.\n",
    "\n",
    "# #: (Don't Run this cell, it will fail). The below is not working for image data as 'input_data,' as it Failed to deserialize input string data to JSON. \n",
    "# # Verify the model with the provided input data using the logged dependencies.\n",
    "# # For more details, refer to:\n",
    "# # https://mlflow.org/docs/latest/models.html#validate-models-before-deployment\n",
    "# mlflow.models.predict(\n",
    "#     model_uri=model_uri,\n",
    "#     input_data=input_data,\n",
    "#     env_manager=\"uv\",\n",
    "# )"
   ]
  },
  {
   "cell_type": "code",
   "execution_count": 0,
   "metadata": {
    "application/vnd.databricks.v1+cell": {
     "cellMetadata": {
      "byteLimit": 2048000,
      "rowLimit": 10000
     },
     "inputWidgets": {},
     "nuid": "01a2f40f-c2aa-4661-9cd7-0aa5d90a89a3",
     "showTitle": true,
     "tableResultSettingsMap": {},
     "title": "B.  pyfunc model load"
    }
   },
   "outputs": [],
   "source": [
    "# load model back\n",
    "import mlflow\n",
    "import ultralytics\n",
    "\n",
    "model_uri = 'runs:/4a8cef6f866d414096370c4282dbf55f/model' # this is pyfunc customized model\n",
    "# Replace INPUT_EXAMPLE with your own input example to the model\n",
    "# A valid input example is a data instance suitable for pyfunc prediction\n",
    "test_path = \"/Volumes/mmt_mlops_demos/cv/data/Nuclei_Instance_Dataset/yolo_dataset/val/images/\"\n",
    "input_data = [test_path + f for f in [\"human_liver_39.png\", \"human_melanoma_05.png\", \"mouse_liver_35.png\", \"mouse_spleen_02.png\"]]\n",
    "print(\"We will inference on the following images:\", input_data)\n",
    "model = mlflow.pyfunc.load_model(model_uri) # for pytorch flavour model, load using mlflow.pytorch\n",
    "results = model.unwrap_python_model().model(input_data, stream = False) # enable stream produces a generator instead of a list. a List consumes more memory.\n",
    "\n",
    "# #: (Don't Run this cell, it will fail). The below is not working for image data as 'input_data,' as it Failed to deserialize input string data to JSON. \n",
    "# # Verify the model with the provided input data using the logged dependencies.\n",
    "# # For more details, refer to:\n",
    "# # https://mlflow.org/docs/latest/models.html#validate-models-before-deployment\n",
    "# mlflow.models.predict(\n",
    "#     model_uri=model_uri,\n",
    "#     input_data=input_data,\n",
    "#     env_manager=\"uv\",\n",
    "# )"
   ]
  },
  {
   "cell_type": "code",
   "execution_count": 0,
   "metadata": {
    "application/vnd.databricks.v1+cell": {
     "cellMetadata": {
      "byteLimit": 2048000,
      "rowLimit": 10000
     },
     "inputWidgets": {},
     "nuid": "140cf7b3-79b6-4d33-b2e7-c66d680ccb66",
     "showTitle": true,
     "tableResultSettingsMap": {},
     "title": "original figures"
    }
   },
   "outputs": [],
   "source": [
    "import cv2\n",
    "import matplotlib.pyplot as plt\n",
    "import math\n",
    "\n",
    "nrow = math.ceil(len(input_data) / 2)\n",
    "\n",
    "fig, axs = plt.subplots(nrow, 2, figsize=(10, 10))\n",
    "for ax, img_loc in zip(axs.flatten(), input_data):\n",
    "    img = cv2.imread(img_loc)\n",
    "    img_rgb = cv2.cvtColor(img, cv2.COLOR_BGR2RGB)\n",
    "    ax.imshow(img_rgb)\n",
    "    ax.set_title(img_loc.split(\"/\")[-1])\n",
    "    ax.axis('off')\n",
    "\n",
    "plt.tight_layout()\n",
    "\n",
    "# display(fig)"
   ]
  },
  {
   "cell_type": "code",
   "execution_count": 0,
   "metadata": {
    "application/vnd.databricks.v1+cell": {
     "cellMetadata": {
      "byteLimit": 2048000,
      "rowLimit": 10000
     },
     "inputWidgets": {},
     "nuid": "d1af49b3-62b3-4303-bb3d-2290ced5bcb0",
     "showTitle": true,
     "tableResultSettingsMap": {},
     "title": "figure with overlay"
    }
   },
   "outputs": [],
   "source": [
    "fig, axs = plt.subplots(nrow, 2, figsize=(10, 10))\n",
    "for ax, result in zip(axs.flatten(), results):\n",
    "    img_w_predictions = result.plot()\n",
    "    img_rgb = cv2.cvtColor(img_w_predictions, cv2.COLOR_BGR2RGB)\n",
    "    ax.imshow(img_rgb)\n",
    "    ax.set_title(result.path.split(\"/\")[-1])\n",
    "    ax.axis('off')\n",
    "\n",
    "plt.tight_layout()"
   ]
  },
  {
   "cell_type": "code",
   "execution_count": 0,
   "metadata": {
    "application/vnd.databricks.v1+cell": {
     "cellMetadata": {
      "byteLimit": 2048000,
      "rowLimit": 10000
     },
     "inputWidgets": {},
     "nuid": "15beb450-f79a-446f-b303-1b9e02cbaf11",
     "showTitle": false,
     "tableResultSettingsMap": {},
     "title": ""
    }
   },
   "outputs": [],
   "source": [
    "len(results)"
   ]
  },
  {
   "cell_type": "code",
   "execution_count": 0,
   "metadata": {
    "application/vnd.databricks.v1+cell": {
     "cellMetadata": {
      "byteLimit": 2048000,
      "rowLimit": 10000
     },
     "inputWidgets": {},
     "nuid": "8ea15a94-61c0-4419-ab21-a63935737c6f",
     "showTitle": true,
     "tableResultSettingsMap": {},
     "title": "original vs overlay"
    }
   },
   "outputs": [],
   "source": [
    "fig, axs = plt.subplots(len(results), 2, figsize=(10, 20)) #, gridspec_kw={'wspace': 0.01, 'hspace': 0.01})\n",
    "for ax, result in zip(axs, results):\n",
    "    # for the same row, original figure vs. original+overlay from prediction figure\n",
    "    ax_L = ax[0] # left subplot\n",
    "    ax_R = ax[1] # right subplot\n",
    "\n",
    "    img_raw = result.orig_img\n",
    "    img_rgb = cv2.cvtColor(img_raw, cv2.COLOR_BGR2RGB)\n",
    "    ax_L.imshow(img_rgb)\n",
    "    ax_L.set_title(result.path.split(\"/\")[-1])\n",
    "    ax_L.axis('off')\n",
    "\n",
    "    img_w_predictions = result.plot()\n",
    "    img_rgb = cv2.cvtColor(img_w_predictions, cv2.COLOR_BGR2RGB)\n",
    "    ax_R.imshow(img_rgb)\n",
    "    ax_R.set_title(result.path.split(\"/\")[-1])\n",
    "    ax_R.axis('off')\n",
    "\n",
    "plt.tight_layout()\n",
    "# plt.subplots_adjust(wspace=0.1, hspace=0.1)"
   ]
  },
  {
   "cell_type": "code",
   "execution_count": 0,
   "metadata": {
    "application/vnd.databricks.v1+cell": {
     "cellMetadata": {
      "byteLimit": 2048000,
      "rowLimit": 10000
     },
     "inputWidgets": {},
     "nuid": "c347d019-e7cd-4dbc-98c1-38bbe94dd702",
     "showTitle": true,
     "tableResultSettingsMap": {},
     "title": "display raw numericals"
    }
   },
   "outputs": [],
   "source": [
    "# View results\n",
    "for r in results:\n",
    "    print(r.boxes[:1])\n",
    "    print(r.masks[:1])"
   ]
  },
  {
   "cell_type": "code",
   "execution_count": 0,
   "metadata": {
    "application/vnd.databricks.v1+cell": {
     "cellMetadata": {},
     "inputWidgets": {},
     "nuid": "91ca558e-e0a4-4177-af31-b4001be22581",
     "showTitle": false,
     "tableResultSettingsMap": {},
     "title": ""
    }
   },
   "outputs": [],
   "source": []
  }
 ],
 "metadata": {
  "application/vnd.databricks.v1+notebook": {
   "computePreferences": null,
   "dashboards": [],
   "environmentMetadata": {
    "base_environment": "",
    "environment_version": "2"
   },
   "language": "python",
   "notebookMetadata": {
    "pythonIndentUnit": 2
   },
   "notebookName": "MedCellTypes - YOLO Batch Inference",
   "widgets": {}
  },
  "language_info": {
   "name": "python"
  }
 },
 "nbformat": 4,
 "nbformat_minor": 0
}
